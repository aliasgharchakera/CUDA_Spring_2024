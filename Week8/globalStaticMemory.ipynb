{
  "nbformat": 4,
  "nbformat_minor": 0,
  "metadata": {
    "colab": {
      "provenance": [],
      "include_colab_link": true
    },
    "kernelspec": {
      "name": "python3",
      "display_name": "Python 3"
    },
    "language_info": {
      "name": "python"
    },
    "accelerator": "GPU"
  },
  "cells": [
    {
      "cell_type": "markdown",
      "metadata": {
        "id": "view-in-github",
        "colab_type": "text"
      },
      "source": [
        "<a href=\"https://colab.research.google.com/github/mmmovania/CUDA_Spring_2024/blob/main/Week8/globalStaticMemory.ipynb\" target=\"_parent\"><img src=\"https://colab.research.google.com/assets/colab-badge.svg\" alt=\"Open In Colab\"/></a>"
      ]
    },
    {
      "cell_type": "code",
      "execution_count": null,
      "metadata": {
        "colab": {
          "base_uri": "https://localhost:8080/"
        },
        "id": "kBUHmmqQHOS-",
        "outputId": "32bf9cad-d0db-40ee-d502-20f3db510a79"
      },
      "outputs": [
        {
          "output_type": "stream",
          "name": "stdout",
          "text": [
            "Looking in indexes: https://pypi.org/simple, https://us-python.pkg.dev/colab-wheels/public/simple/\n",
            "Collecting git+https://github.com/andreinechaev/nvcc4jupyter.git\n",
            "  Cloning https://github.com/andreinechaev/nvcc4jupyter.git to /tmp/pip-req-build-doah5k0g\n",
            "  Running command git clone --filter=blob:none --quiet https://github.com/andreinechaev/nvcc4jupyter.git /tmp/pip-req-build-doah5k0g\n",
            "  Resolved https://github.com/andreinechaev/nvcc4jupyter.git to commit aac710a35f52bb78ab34d2e52517237941399eff\n",
            "  Preparing metadata (setup.py) ... \u001b[?25l\u001b[?25hdone\n",
            "Building wheels for collected packages: NVCCPlugin\n",
            "  Building wheel for NVCCPlugin (setup.py) ... \u001b[?25l\u001b[?25hdone\n",
            "  Created wheel for NVCCPlugin: filename=NVCCPlugin-0.0.2-py3-none-any.whl size=4304 sha256=719b15e293df98da5a864adcafd297fc3547de6077a168555532e1f7bec4c964\n",
            "  Stored in directory: /tmp/pip-ephem-wheel-cache-6g3xgrw0/wheels/f3/08/cc/e2b5b0e1c92df07dbb50a6f024a68ce090f5e7b2316b41756d\n",
            "Successfully built NVCCPlugin\n",
            "Installing collected packages: NVCCPlugin\n",
            "Successfully installed NVCCPlugin-0.0.2\n",
            "created output directory at /content/src\n",
            "Out bin /content/result.out\n"
          ]
        }
      ],
      "source": [
        "!pip install git+https://github.com/andreinechaev/nvcc4jupyter.git\n",
        "%load_ext nvcc4jupyter"
      ]
    },
    {
      "cell_type": "code",
      "source": [
        "%%cuda\n",
        "#include <stdio.h>\n",
        "\n",
        "__device__ float devData;\n",
        "\n",
        "__global__ void checkGlobalVariable() {\n",
        "   // display the original value\n",
        "   printf(\"Device: the value of the global variable is %f\\n\",devData);\n",
        "\n",
        "   // alter the value\n",
        "   devData +=2.0f;\n",
        "}\n",
        "\n",
        "int main(void) {\n",
        "   // initialize the global variable\n",
        "   float value = 3.14f;\n",
        "   cudaMemcpyToSymbol(devData, &value, sizeof(float));\n",
        "   printf(\"Host: copied %f to the global variable\\n\", value);\n",
        "   // invoke the kernel\n",
        "   checkGlobalVariable <<<1, 1>>>();\n",
        "   // copy the global variable back to the host\n",
        "   cudaMemcpyFromSymbol(&value, devData, sizeof(float));\n",
        "   printf(\"Host: the value changed by the kernel to %f\\n\", value);\n",
        "   cudaDeviceReset();\n",
        "   return 0;\n",
        "}"
      ],
      "metadata": {
        "colab": {
          "base_uri": "https://localhost:8080/"
        },
        "id": "P71PB1boHhgz",
        "outputId": "cc21f118-629d-4508-a986-dd4cccd53d7e"
      },
      "execution_count": null,
      "outputs": [
        {
          "output_type": "stream",
          "name": "stdout",
          "text": [
            "Host: copied 3.140000 to the global variable\n",
            "Device: the value of the global variable is 3.140000\n",
            "Host: the value changed by the kernel to 5.140000\n",
            "\n"
          ]
        }
      ]
    }
  ]
}