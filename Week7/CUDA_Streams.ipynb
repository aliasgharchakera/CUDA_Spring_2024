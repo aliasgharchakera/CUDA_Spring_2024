{
  "nbformat": 4,
  "nbformat_minor": 0,
  "metadata": {
    "colab": {
      "name": "CUDA_Streams.ipynb",
      "provenance": [],
      "include_colab_link": true
    },
    "kernelspec": {
      "name": "python3",
      "display_name": "Python 3"
    },
    "language_info": {
      "name": "python"
    },
    "accelerator": "GPU"
  },
  "cells": [
    {
      "cell_type": "markdown",
      "metadata": {
        "id": "view-in-github",
        "colab_type": "text"
      },
      "source": [
        "<a href=\"https://colab.research.google.com/github/mmmovania/CUDA_Spring_2024/blob/main/Week7/CUDA_Streams.ipynb\" target=\"_parent\"><img src=\"https://colab.research.google.com/assets/colab-badge.svg\" alt=\"Open In Colab\"/></a>"
      ]
    },
    {
      "cell_type": "code",
      "execution_count": null,
      "metadata": {
        "colab": {
          "base_uri": "https://localhost:8080/"
        },
        "id": "OB2MY3st-VUm",
        "outputId": "51273fc9-e240-466b-89e9-c8b06943feae"
      },
      "outputs": [
        {
          "output_type": "stream",
          "name": "stdout",
          "text": [
            "/usr/local\n",
            "  File: cuda -> /usr/local/cuda-10.1\n",
            "  Size: 20        \tBlocks: 0          IO Block: 4096   symbolic link\n",
            "Device: 24h/36d\tInode: 3276803     Links: 1\n",
            "Access: (0777/lrwxrwxrwx)  Uid: (    0/    root)   Gid: (    0/    root)\n",
            "Access: 2022-04-14 19:50:09.828573936 +0000\n",
            "Modify: 2022-04-14 19:50:09.721574140 +0000\n",
            "Change: 2022-04-14 19:50:09.721574140 +0000\n",
            " Birth: -\n",
            "Collecting git+https://github.com/andreinechaev/nvcc4jupyter.git\n",
            "  Cloning https://github.com/andreinechaev/nvcc4jupyter.git to /tmp/pip-req-build-yvims0if\n",
            "  Running command git clone -q https://github.com/andreinechaev/nvcc4jupyter.git /tmp/pip-req-build-yvims0if\n",
            "directory /usr/local/src already exists\n",
            "Out bin /usr/local/result.out\n"
          ]
        }
      ],
      "source": [
        "!pip install git+https://github.com/andreinechaev/nvcc4jupyter.git\n",
        "%load_ext nvcc4jupyter"
      ]
    },
    {
      "cell_type": "code",
      "source": [
        "%%cu\n",
        "\n",
        "#include <stdio.h>\n",
        "\n",
        "#define N 1000000000\n",
        "#define NSTREAM 4\n",
        "\n",
        "inline cudaError_t checkCudaErr(cudaError_t err, const char* msg) {\n",
        "\tif (err != cudaSuccess) {\n",
        "\t\tfprintf(stderr, \"CUDA Runtime error at %s: %s\\n\", msg, cudaGetErrorString(err));\n",
        "\t}\n",
        "\treturn err;\n",
        "}\n",
        "\n",
        "__global__ void kernel_1()\n",
        "{\n",
        "\tdouble sum = 0.0;\n",
        "\tfor(int i = 0; i < N; i++)\n",
        "  {\n",
        "\t\t\tsum += sum + tan(0.1) * tan(0.1);\n",
        "\t}\n",
        "}\n",
        "\n",
        "__global__ void kernel_2()\n",
        "{\n",
        "\tdouble sum = 0.0;\n",
        "\tfor(int i = 0; i < N; i++)\n",
        "  {\n",
        "\t\t\tsum += sum + tan(0.1) * tan(0.1);\n",
        "\t}\n",
        "}\n",
        "\n",
        "__global__ void kernel_3()\n",
        "{\n",
        "\tdouble sum = 0.0;\n",
        "\tfor(int i = 0; i < N; i++)\n",
        "  {\n",
        "\t\t\tsum += sum + tan(0.1) * tan(0.1);\n",
        "\t}\n",
        "}\n",
        "\n",
        "__global__ void kernel_4()\n",
        "{\n",
        "\tdouble sum = 0.0;\n",
        "\tfor(int i = 0; i < N; i++)\n",
        "  {\n",
        "\t\t\tsum += sum + tan(0.1) * tan(0.1);\n",
        "\t}\n",
        "}\n",
        "\n",
        "int main()\n",
        "{\n",
        "\tfloat elapsed_time = 0;\n",
        "\tint bigcase = 1;\n",
        "\tint isize = 1;\n",
        "  int iblock = 1;\n",
        "\n",
        "\tconst int n_streams = NSTREAM;\n",
        "\tcudaStream_t* streams = (cudaStream_t*) malloc(n_streams * sizeof(cudaStream_t));\n",
        "\n",
        "\tfor (int i = 0 ; i < n_streams; i++)\n",
        "  {\n",
        "     checkCudaErr(cudaStreamCreate(&streams[i]), \"stream creation\");\n",
        "\t}\n",
        "\n",
        "\n",
        "    // run kernel with more threads\n",
        "    if (bigcase == 1)\n",
        "    {\n",
        "        iblock = 512;\n",
        "        isize = 1 << 12;\n",
        "    }\n",
        "\n",
        "    // set up execution configuration\n",
        "    dim3 block (iblock);\n",
        "    dim3 grid  (isize / iblock);\n",
        "\n",
        "\t// creat events\n",
        "  cudaEvent_t start, stop;\n",
        "  checkCudaErr(cudaEventCreate(&start), \"event create (start)\");\n",
        "  checkCudaErr(cudaEventCreate(&stop), \"event create (stop)\");\n",
        "\n",
        "  // record start event\n",
        "  checkCudaErr(cudaEventRecord(start, 0), \"cudaEventRecord(start)\");\n",
        "\n",
        "\tfor(int i=0; i<n_streams; ++i)\n",
        "  {\n",
        "\t\t\tkernel_1 <<< grid, block, 0, streams[i] >>> ();\n",
        "\t\t\tkernel_2 <<< grid, block, 0, streams[i] >>> ();\n",
        "\t\t\tkernel_3 <<< grid, block, 0, streams[i] >>> ();\n",
        "\t\t\tkernel_4 <<< grid, block, 0, streams[i] >>> ();\n",
        "\t}\n",
        "  // record stop event\n",
        "  checkCudaErr(cudaEventRecord(stop, 0), \"cudaEventRecord\");\n",
        "  checkCudaErr(cudaEventSynchronize(stop), \"cudaEventSynchronize\");\n",
        "\n",
        "\t// calculate elapsed time\n",
        "  checkCudaErr(cudaEventElapsedTime(&elapsed_time, start, stop), \"cudaEventElapsedTime\");\n",
        "\tprintf(\"Measured time for parallel execution = %.3fs\\n\", elapsed_time / 1000.0f);\n",
        "\n",
        "\t// release all stream\n",
        "\tfor (int i = 0 ; i < n_streams ; i++)\n",
        "  {\n",
        "     checkCudaErr(cudaStreamDestroy(streams[i]), \"cudaStreamDestroy\");\n",
        "  }\n",
        "\n",
        "  free(streams);\n",
        "\n",
        "\t// free memory on the gpu side\n",
        "  // destroy events\n",
        "  checkCudaErr(cudaEventDestroy(start), \"cudaEventDestroy(start)\");\n",
        "  checkCudaErr(cudaEventDestroy(stop), \"cudaEventDestroy(stop)\");\n",
        "\tcheckCudaErr( cudaDeviceReset(), \"cudaDeviceReset\");\n",
        "\n",
        "\treturn 0;\n",
        "}"
      ],
      "metadata": {
        "colab": {
          "base_uri": "https://localhost:8080/"
        },
        "id": "GYZ627HO-XKd",
        "outputId": "f62ee677-b24a-45bd-e274-281defbf9975"
      },
      "execution_count": null,
      "outputs": [
        {
          "output_type": "stream",
          "name": "stdout",
          "text": [
            "Measured time for parallel execution = 0.000s\n",
            "\n"
          ]
        }
      ]
    }
  ]
}