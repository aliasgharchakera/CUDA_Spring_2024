{
  "cells": [
    {
      "cell_type": "markdown",
      "metadata": {
        "id": "view-in-github",
        "colab_type": "text"
      },
      "source": [
        "<a href=\"https://colab.research.google.com/github/mmmovania/CUDA_Spring_2024/blob/main/Week9/DotProductGPU.ipynb\" target=\"_parent\"><img src=\"https://colab.research.google.com/assets/colab-badge.svg\" alt=\"Open In Colab\"/></a>"
      ]
    },
    {
      "cell_type": "code",
      "execution_count": 1,
      "metadata": {
        "colab": {
          "base_uri": "https://localhost:8080/"
        },
        "id": "OB2MY3st-VUm",
        "outputId": "20484a77-ecf2-411b-c216-cf55b42b4b51"
      },
      "outputs": [
        {
          "output_type": "stream",
          "name": "stdout",
          "text": [
            "Collecting git+https://github.com/andreinechaev/nvcc4jupyter.git\n",
            "  Cloning https://github.com/andreinechaev/nvcc4jupyter.git to /tmp/pip-req-build-s7nysrpd\n",
            "  Running command git clone --filter=blob:none --quiet https://github.com/andreinechaev/nvcc4jupyter.git /tmp/pip-req-build-s7nysrpd\n",
            "  Resolved https://github.com/andreinechaev/nvcc4jupyter.git to commit 781ff5b76ba6c4c2d80dcbbec9983e147613cc71\n",
            "  Installing build dependencies ... \u001b[?25l\u001b[?25hdone\n",
            "  Getting requirements to build wheel ... \u001b[?25l\u001b[?25hdone\n",
            "  Preparing metadata (pyproject.toml) ... \u001b[?25l\u001b[?25hdone\n",
            "Building wheels for collected packages: nvcc4jupyter\n",
            "  Building wheel for nvcc4jupyter (pyproject.toml) ... \u001b[?25l\u001b[?25hdone\n",
            "  Created wheel for nvcc4jupyter: filename=nvcc4jupyter-1.1.0-py3-none-any.whl size=8011 sha256=e2b2acbb79d726227ace2ffdeb18b901e4debb9cf9419b13a35a389a655ee4ac\n",
            "  Stored in directory: /tmp/pip-ephem-wheel-cache-wqrpw3z_/wheels/a8/b9/18/23f8ef71ceb0f63297dd1903aedd067e6243a68ea756d6feea\n",
            "Successfully built nvcc4jupyter\n",
            "Installing collected packages: nvcc4jupyter\n",
            "Successfully installed nvcc4jupyter-1.1.0\n",
            "Source files will be saved in \"/tmp/tmpb369ghos\".\n"
          ]
        }
      ],
      "source": [
        "!pip install git+https://github.com/andreinechaev/nvcc4jupyter.git\n",
        "%load_ext nvcc4jupyter"
      ]
    },
    {
      "cell_type": "code",
      "execution_count": 3,
      "metadata": {
        "colab": {
          "base_uri": "https://localhost:8080/"
        },
        "id": "GYZ627HO-XKd",
        "outputId": "f1eb5159-00b2-48a9-a964-9ccba59af0a8"
      },
      "outputs": [
        {
          "output_type": "stream",
          "name": "stdout",
          "text": [
            "Does GPU value 2.57236e+13 = 2.57236e+13?\n",
            "\n"
          ]
        }
      ],
      "source": [
        "%%cuda\n",
        "#include <stdio.h>\n",
        "const int N = 33 * 1024;\n",
        "const int threadsPerBlock = 256;\n",
        "\n",
        "#define imin(a,b) (a<b?a:b)\n",
        "\n",
        "const int blocksPerGrid =  imin( 32, (N+threadsPerBlock-1) / threadsPerBlock );\n",
        "\n",
        "inline cudaError_t checkCudaErr(cudaError_t err, const char* msg) {\n",
        "  if (err != cudaSuccess) {\n",
        "    fprintf(stderr, \"CUDA Runtime error at %s: %s\\n\", msg, cudaGetErrorString(err));\n",
        "  }\n",
        "  return err;\n",
        "}\n",
        "\n",
        "__global__ void dot( float *a, float *b, float *c ) {\n",
        "    __shared__ float cache[threadsPerBlock];\n",
        "    int tid = threadIdx.x + blockIdx.x * blockDim.x;\n",
        "    int cacheIndex = threadIdx.x;\n",
        "\n",
        "    float   temp = 0;\n",
        "    while (tid < N) {\n",
        "        temp += a[tid] * b[tid];\n",
        "        tid += blockDim.x * gridDim.x;\n",
        "    }\n",
        "\n",
        "    // set the cache values\n",
        "    cache[cacheIndex] = temp;\n",
        "\n",
        "    // synchronize threads in this block\n",
        "    __syncthreads();\n",
        "\n",
        "    // for reductions, threadsPerBlock must be a power of 2\n",
        "    // because of the following code\n",
        "    int i = blockDim.x/2;\n",
        "    while (i != 0) {\n",
        "        if (cacheIndex < i)\n",
        "            cache[cacheIndex] += cache[cacheIndex + i];\n",
        "        __syncthreads();\n",
        "        i /= 2;\n",
        "    }\n",
        "\n",
        "    if (cacheIndex == 0)\n",
        "        c[blockIdx.x] = cache[0];\n",
        "}\n",
        "\n",
        "\n",
        "int main() {\n",
        "\t\tfloat   *a, *b, c, *partial_c;\n",
        "    float   *dev_a, *dev_b, *dev_partial_c;\n",
        "\n",
        "    // allocate memory on the cpu side\n",
        "    a = (float*)malloc( N*sizeof(float) );\n",
        "    b = (float*)malloc( N*sizeof(float) );\n",
        "    partial_c = (float*)malloc( blocksPerGrid*sizeof(float) );\n",
        "\n",
        "    // allocate the memory on the GPU\n",
        "    checkCudaErr( cudaMalloc( (void**)&dev_a,\n",
        "                              N*sizeof(float) ) , \"cudaMalloc1\");\n",
        "    checkCudaErr( cudaMalloc( (void**)&dev_b,\n",
        "                              N*sizeof(float) ) , \"cudaMalloc2\");\n",
        "    checkCudaErr( cudaMalloc( (void**)&dev_partial_c,\n",
        "                              blocksPerGrid*sizeof(float) ) , \"cudaMalloc3\");\n",
        "\n",
        "    // fill in the host memory with data\n",
        "    for (int i=0; i<N; i++) {\n",
        "        a[i] = i;\n",
        "        b[i] = i*2;\n",
        "    }\n",
        "\n",
        "    // copy the arrays 'a' and 'b' to the GPU\n",
        "    checkCudaErr( cudaMemcpy( dev_a, a, N*sizeof(float),\n",
        "                              cudaMemcpyHostToDevice ), \"cudaMemCpy1\" );\n",
        "    checkCudaErr( cudaMemcpy( dev_b, b, N*sizeof(float),\n",
        "                              cudaMemcpyHostToDevice ) , \"cudaMemCpy2\");\n",
        "\n",
        "    dot<<<blocksPerGrid,threadsPerBlock>>>( dev_a, dev_b,\n",
        "                                            dev_partial_c );\n",
        "\n",
        "    // copy the array 'c' back from the GPU to the CPU\n",
        "    checkCudaErr( cudaMemcpy( partial_c, dev_partial_c,\n",
        "                              blocksPerGrid*sizeof(float),\n",
        "                              cudaMemcpyDeviceToHost ), \"cudaMemCpy3\" );\n",
        "\n",
        "    // finish up on the CPU side\n",
        "\n",
        "    c = 0;\n",
        "    for (int i=0; i<blocksPerGrid; i++) {\n",
        "        c += partial_c[i];\n",
        "    }\n",
        "\n",
        "    #define sum_squares(x)  (x*(x+1)*(2*x+1)/6)\n",
        "    printf( \"Does GPU value %.6g = %.6g?\\n\", c,\n",
        "             2 * sum_squares( (float)(N - 1) ) );\n",
        "\n",
        "    // free memory on the gpu side\n",
        "    checkCudaErr( cudaFree( dev_a ) , \"cudaFree1\");\n",
        "    checkCudaErr( cudaFree( dev_b ) , \"cudaFree2\");\n",
        "    checkCudaErr( cudaFree( dev_partial_c ) , \"cudaFree3\");\n",
        "\n",
        "    // free memory on the cpu side\n",
        "    free( a );\n",
        "    free( b );\n",
        "    free( partial_c );\n",
        "\n",
        "\t\tcudaDeviceReset();\n",
        "\t\treturn 0;\n",
        "}"
      ]
    }
  ],
  "metadata": {
    "accelerator": "GPU",
    "colab": {
      "provenance": [],
      "include_colab_link": true
    },
    "kernelspec": {
      "display_name": "Python 3",
      "name": "python3"
    },
    "language_info": {
      "name": "python"
    }
  },
  "nbformat": 4,
  "nbformat_minor": 0
}