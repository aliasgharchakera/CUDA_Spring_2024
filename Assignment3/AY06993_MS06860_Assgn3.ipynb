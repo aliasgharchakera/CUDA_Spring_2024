{
  "cells": [
    {
      "cell_type": "markdown",
      "metadata": {
        "colab_type": "text",
        "id": "view-in-github"
      },
      "source": [
        "<a href=\"https://colab.research.google.com/github/aliasgharchakera/CUDA_Spring_2024/blob/main/Assignment3/AY06993_MS06860_Assgn3.ipynb\" target=\"_parent\"><img src=\"https://colab.research.google.com/assets/colab-badge.svg\" alt=\"Open In Colab\"/></a>"
      ]
    },
    {
      "cell_type": "markdown",
      "metadata": {
        "id": "RX8l8dJu61G1"
      },
      "source": [
        "# CS 432 GPU Accelerated Programming\n",
        "## Assignment 3\n",
        "### Ali Asghar Yousuf | Mustafa Sohail\n",
        "### ay06993@st.habib.edu.pk | ms06860@st.habib.edu.pk"
      ]
    },
    {
      "cell_type": "markdown",
      "metadata": {
        "id": "-QNMW-CK61G9"
      },
      "source": [
        "### Initialization"
      ]
    },
    {
      "cell_type": "markdown",
      "metadata": {
        "id": "8Fy4qsNSRkea"
      },
      "source": [
        "#### Downloading the source code for this assignment:\n",
        "Next, we download the required source files from the github repository of Assignment 3."
      ]
    },
    {
      "cell_type": "code",
      "execution_count": null,
      "metadata": {},
      "outputs": [],
      "source": [
        "!wget -P src/cpu/ -nc \"https://github.com/aliasgharchakera/CUDA_Spring_2024/raw/main/Assignment3/cpu/cpu-smallpt.cpp\"\n",
        "!wget -P src/cpu/ -nc \"https://github.com/aliasgharchakera/CUDA_Spring_2024/raw/main/Assignment3/cpu/geometry.hpp\"\n",
        "!wget -P src/cpu/ -nc \"https://github.com/aliasgharchakera/CUDA_Spring_2024/raw/main/Assignment3/cpu/imageio.hpp\"\n",
        "!wget -P src/cpu/ -nc \"https://github.com/aliasgharchakera/CUDA_Spring_2024/raw/main/Assignment3/cpu/math.hpp\"\n",
        "!wget -P src/cpu/ -nc \"https://github.com/aliasgharchakera/CUDA_Spring_2024/raw/main/Assignment3/cpu/rng.hpp\"\n",
        "!wget -P src/cpu/ -nc \"https://github.com/aliasgharchakera/CUDA_Spring_2024/raw/main/Assignment3/cpu/sampling.hpp\"\n",
        "!wget -P src/cpu/ -nc \"https://github.com/aliasgharchakera/CUDA_Spring_2024/raw/main/Assignment3/cpu/specular.hpp\"\n",
        "!wget -P src/cpu/ -nc \"https://github.com/aliasgharchakera/CUDA_Spring_2024/raw/main/Assignment3/cpu/sphere.hpp\"\n",
        "!wget -P src/cpu/ -nc \"https://github.com/aliasgharchakera/CUDA_Spring_2024/raw/main/Assignment3/cpu/vector.hpp\""
      ]
    },
    {
      "cell_type": "code",
      "execution_count": null,
      "metadata": {
        "colab": {
          "base_uri": "https://localhost:8080/"
        },
        "id": "kYSCHgmwRwca",
        "outputId": "ea814525-a8f8-45df-ad60-694580a62c69"
      },
      "outputs": [],
      "source": [
        "!wget -P src/gpu/ -nc \"https://github.com/aliasgharchakera/CUDA_Spring_2024/raw/main/Assignment3/gpu/gpu-smallpt.cu\"\n",
        "!wget -P src/gpu/ -nc \"https://github.com/aliasgharchakera/CUDA_Spring_2024/raw/main/Assignment3/gpu/cuda_tools.hpp\"\n",
        "!wget -P src/gpu/ -nc \"https://github.com/aliasgharchakera/CUDA_Spring_2024/raw/main/Assignment3/gpu/geometry.cuh\"\n",
        "!wget -P src/gpu/ -nc \"https://github.com/aliasgharchakera/CUDA_Spring_2024/raw/main/Assignment3/gpu/imageio.hpp\"\n",
        "!wget -P src/gpu/ -nc \"https://github.com/aliasgharchakera/CUDA_Spring_2024/raw/main/Assignment3/gpu/math.hpp\"\n",
        "!wget -P src/gpu/ -nc \"https://github.com/aliasgharchakera/CUDA_Spring_2024/raw/main/Assignment3/gpu/sampling.cuh\"\n",
        "!wget -P src/gpu/ -nc \"https://github.com/aliasgharchakera/CUDA_Spring_2024/raw/main/Assignment3/gpu/specular.cuh\"\n",
        "!wget -P src/gpu/ -nc \"https://github.com/aliasgharchakera/CUDA_Spring_2024/raw/main/Assignment3/gpu/sphere.hpp\"\n",
        "!wget -P src/gpu/ -nc \"https://github.com/aliasgharchakera/CUDA_Spring_2024/raw/main/Assignment3/gpu/vector.hpp\""
      ]
    },
    {
      "cell_type": "markdown",
      "metadata": {
        "id": "Qvu8ZZ_BoDH0"
      },
      "source": [
        "### CPU Implementation"
      ]
    },
    {
      "cell_type": "markdown",
      "metadata": {
        "id": "XABP05QpaiV2"
      },
      "source": [
        "#### Compiling and running smallpt on CPU:\n",
        "We compile the smallpt code and run the executable to generate the image."
      ]
    },
    {
      "cell_type": "code",
      "execution_count": 5,
      "metadata": {
        "colab": {
          "base_uri": "https://localhost:8080/"
        },
        "id": "TWtz4SHxbAFe",
        "outputId": "59f05483-7717-4894-ac9a-cb459973cf9f"
      },
      "outputs": [],
      "source": [
        "!g++ /content/src/cpu/cpu-smallpt.cpp -o cpu-smallpt\n",
        "!./cpu-smallpt"
      ]
    },
    {
      "cell_type": "markdown",
      "metadata": {
        "id": "Nx-Q7NFtoIs7"
      },
      "source": [
        "### GPU Implementation"
      ]
    },
    {
      "cell_type": "markdown",
      "metadata": {
        "id": "FgRGPFCJoOFm"
      },
      "source": [
        "#### Compiling and running smallpt on GPU:\n",
        "We compile the smallpt code and run the executable to generate the image."
      ]
    },
    {
      "cell_type": "code",
      "execution_count": null,
      "metadata": {
        "colab": {
          "base_uri": "https://localhost:8080/"
        },
        "id": "8WdAiilthbyB",
        "outputId": "8f416876-33f1-47a0-c139-0118bc59b7aa"
      },
      "outputs": [],
      "source": [
        "!nvcc /content/src/gpu/gpu-smallpt.cu -o gpu-smallpt\n",
        "!./gpu-smallpt"
      ]
    },
    {
      "cell_type": "markdown",
      "metadata": {
        "id": "BjykbpQwl2A_"
      },
      "source": [
        "### Results"
      ]
    },
    {
      "cell_type": "markdown",
      "metadata": {
        "id": "wDBsnZ9tl4vu"
      },
      "source": [
        "#### XOR Results"
      ]
    },
    {
      "cell_type": "code",
      "execution_count": 38,
      "metadata": {
        "colab": {
          "base_uri": "https://localhost:8080/",
          "height": 472
        },
        "id": "Zfc_Ho09nlp0",
        "outputId": "3d5bdb9a-f7b5-43bd-be41-5e87cf5eb97e"
      },
      "outputs": [
        {
          "data": {
            "image/png": "[encoded data removed]",
            "text/plain": [
              "<Figure size 640x480 with 1 Axes>"
            ]
          },
          "metadata": {},
          "output_type": "display_data"
        }
      ],
      "source": [
        "import matplotlib.pyplot as plt\n",
        "\n",
        "# XOR\n",
        "x = [\"CPU\", \"GPU\"]\n",
        "# Read the data from the file and average the time\n",
        "with open(\"cpu_xor.txt\", \"r\") as f:\n",
        "    cpu_xor = [float(i) for i in f.readlines()]\n",
        "    cpu_xor = sum(cpu_xor) / len(cpu_xor)\n",
        "\n",
        "with open(\"gpu_xor.txt\", \"r\") as f:\n",
        "    gpu_xor = [float(i) for i in f.readlines()]\n",
        "    gpu_xor = sum(gpu_xor) / len(gpu_xor)\n",
        "\n",
        "y = [cpu_xor, gpu_xor]\n",
        "plt.bar(x, y)\n",
        "plt.title(\"XOR\")\n",
        "plt.xlabel(\"Solver\")\n",
        "plt.ylabel(\"Time (s)\")\n",
        "plt.show()"
      ]
    },
    {
      "cell_type": "markdown",
      "metadata": {
        "id": "FWecei_ulzVD"
      },
      "source": [
        "We see that the time taken by our custom neural network is much higher than the time taken by the neural network in the Eigen library. This is because the Eigen library is highly optimized and while our code leverages the GPU for matrix operations, it is not as optimized as the Eigen library."
      ]
    },
    {
      "cell_type": "markdown",
      "metadata": {
        "id": "TgEfcjnQmQaQ"
      },
      "source": [
        "#### MNIST Results"
      ]
    },
    {
      "cell_type": "code",
      "execution_count": 39,
      "metadata": {
        "colab": {
          "base_uri": "https://localhost:8080/",
          "height": 472
        },
        "id": "jnXwoNjslek9",
        "outputId": "4b59d31a-ce67-4ba7-b7d5-e8bc956804e5"
      },
      "outputs": [
        {
          "data": {
            "image/png": "[encoded data removed]",
            "text/plain": [
              "<Figure size 640x480 with 1 Axes>"
            ]
          },
          "metadata": {},
          "output_type": "display_data"
        }
      ],
      "source": [
        "import matplotlib.pyplot as plt\n",
        "\n",
        "# MNIST\n",
        "x = [\"CPU\", \"GPU\"]\n",
        "# Read the data from the file and average the time\n",
        "with open(\"cpu_mnist.txt\", \"r\") as f:\n",
        "    cpu_mnist = [float(i) for i in f.readlines()]\n",
        "    cpu_mnist = sum(cpu_mnist) / len(cpu_mnist)\n",
        "\n",
        "with open(\"gpu_mnist.txt\", \"r\") as f:\n",
        "    gpu_mnist = [float(i) for i in f.readlines()]\n",
        "    gpu_mnist = sum(gpu_mnist) / len(gpu_mnist)\n",
        "\n",
        "y = [cpu_mnist, gpu_mnist]\n",
        "plt.bar(x, y)\n",
        "plt.title(\"MNIST\")\n",
        "plt.xlabel(\"Solver\")\n",
        "plt.ylabel(\"Time (s)\")\n",
        "plt.show()"
      ]
    },
    {
      "cell_type": "markdown",
      "metadata": {
        "id": "1f6ipv6GndhY"
      },
      "source": [
        "We see similar results for the MNIST dataset as well. The overhead of copying the data to the GPU and back to the CPU is much higher than the time taken by the CPU to perform the matrix operations. This is why we see that the time taken by our custom neural network is much higher than the time taken by the neural network in the Eigen library."
      ]
    },
    {
      "cell_type": "markdown",
      "metadata": {
        "id": "mMRUfzdbna0O"
      },
      "source": [
        "### Improvements\n",
        "\n",
        "We can improve our code by leveraging the different memory levels of the GPU. We can use shared memory to store the input and output of the layers and use the global memory to store the weights and biases. This will reduce the overhead of copying the data to the GPU and back to the CPU. We can also speed up the processing by using more efficient kernel configurations."
      ]
    }
  ],
  "metadata": {
    "accelerator": "GPU",
    "colab": {
      "include_colab_link": true,
      "provenance": []
    },
    "kernelspec": {
      "display_name": "Python 3",
      "name": "python3"
    },
    "language_info": {
      "codemirror_mode": {
        "name": "ipython",
        "version": 3
      },
      "file_extension": ".py",
      "mimetype": "text/x-python",
      "name": "python",
      "nbconvert_exporter": "python",
      "pygments_lexer": "ipython3",
      "version": "3.11.9"
    }
  },
  "nbformat": 4,
  "nbformat_minor": 0
}
