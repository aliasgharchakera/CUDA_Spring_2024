{
  "cells": [
    {
      "cell_type": "markdown",
      "metadata": {
        "colab_type": "text",
        "id": "view-in-github"
      },
      "source": [
        "<a href=\"https://colab.research.google.com/github/aliasgharchakera/CUDA_Spring2023/blob/main/Midterm/ay06993_midterm.ipynb\" target=\"_parent\"><img src=\"https://colab.research.google.com/assets/colab-badge.svg\" alt=\"Open In Colab\"/></a>"
      ]
    },
    {
      "cell_type": "code",
      "execution_count": null,
      "metadata": {
        "colab": {
          "base_uri": "https://localhost:8080/"
        },
        "id": "kBUHmmqQHOS-",
        "outputId": "689d4849-2dac-44fb-b92a-f7c7d9832fa8"
      },
      "outputs": [
        {
          "name": "stdout",
          "output_type": "stream",
          "text": [
            "Looking in indexes: https://pypi.org/simple, https://us-python.pkg.dev/colab-wheels/public/simple/\n",
            "Collecting git+https://github.com/andreinechaev/nvcc4jupyter.git\n",
            "  Cloning https://github.com/andreinechaev/nvcc4jupyter.git to /tmp/pip-req-build-h8x8_c0v\n",
            "  Running command git clone --filter=blob:none --quiet https://github.com/andreinechaev/nvcc4jupyter.git /tmp/pip-req-build-h8x8_c0v\n",
            "  Resolved https://github.com/andreinechaev/nvcc4jupyter.git to commit aac710a35f52bb78ab34d2e52517237941399eff\n",
            "  Preparing metadata (setup.py) ... \u001b[?25l\u001b[?25hdone\n",
            "Building wheels for collected packages: NVCCPlugin\n",
            "  Building wheel for NVCCPlugin (setup.py) ... \u001b[?25l\u001b[?25hdone\n",
            "  Created wheel for NVCCPlugin: filename=NVCCPlugin-0.0.2-py3-none-any.whl size=4304 sha256=db52e647b3b3022e768fce5e05aad97166e4d08b676fb01faa80c00bbdd93eff\n",
            "  Stored in directory: /tmp/pip-ephem-wheel-cache-x1z5j8o1/wheels/f3/08/cc/e2b5b0e1c92df07dbb50a6f024a68ce090f5e7b2316b41756d\n",
            "Successfully built NVCCPlugin\n",
            "Installing collected packages: NVCCPlugin\n",
            "Successfully installed NVCCPlugin-0.0.2\n",
            "created output directory at /content/src\n",
            "Out bin /content/result.out\n"
          ]
        }
      ],
      "source": [
        "!pip install git+https://github.com/andreinechaev/nvcc4jupyter.git\n",
        "%load_ext nvcc_plugin"
      ]
    },
    {
      "cell_type": "code",
      "execution_count": null,
      "metadata": {
        "colab": {
          "base_uri": "https://localhost:8080/"
        },
        "id": "aikKbs6TMEp6",
        "outputId": "07bba28c-63f9-4f2b-b7d1-ecedcf8084c7"
      },
      "outputs": [
        {
          "name": "stdout",
          "output_type": "stream",
          "text": [
            "Sat Jan 14 13:32:39 2023       \n",
            "+-----------------------------------------------------------------------------+\n",
            "| NVIDIA-SMI 460.32.03    Driver Version: 460.32.03    CUDA Version: 11.2     |\n",
            "|-------------------------------+----------------------+----------------------+\n",
            "| GPU  Name        Persistence-M| Bus-Id        Disp.A | Volatile Uncorr. ECC |\n",
            "| Fan  Temp  Perf  Pwr:Usage/Cap|         Memory-Usage | GPU-Util  Compute M. |\n",
            "|                               |                      |               MIG M. |\n",
            "|===============================+======================+======================|\n",
            "|   0  Tesla T4            Off  | 00000000:00:04.0 Off |                    0 |\n",
            "| N/A   63C    P8    11W /  70W |      0MiB / 15109MiB |      0%      Default |\n",
            "|                               |                      |                  N/A |\n",
            "+-------------------------------+----------------------+----------------------+\n",
            "                                                                               \n",
            "+-----------------------------------------------------------------------------+\n",
            "| Processes:                                                                  |\n",
            "|  GPU   GI   CI        PID   Type   Process name                  GPU Memory |\n",
            "|        ID   ID                                                   Usage      |\n",
            "|=============================================================================|\n",
            "|  No running processes found                                                 |\n",
            "+-----------------------------------------------------------------------------+\n"
          ]
        }
      ],
      "source": [
        "!nvidia-smi"
      ]
    },
    {
      "cell_type": "code",
      "execution_count": null,
      "metadata": {
        "colab": {
          "base_uri": "https://localhost:8080/"
        },
        "id": "P71PB1boHhgz",
        "outputId": "08509041-f81d-48e2-93f4-7225a90b4b98"
      },
      "outputs": [
        {
          "name": "stdout",
          "output_type": "stream",
          "text": [
            "Data (on device): \n",
            " data[0] -> 0\n",
            " data[1] -> 1\n",
            " data[2] -> 2\n",
            " data[3] -> 3\n",
            " data[4] -> 4\n",
            " data[5] -> 5\n",
            " data[6] -> 6\n",
            " data[7] -> 7\n",
            " data[8] -> 8\n",
            " data[9] -> 9\n",
            " data[10] -> 10\n",
            " data[11] -> 11\n",
            " data[12] -> 12\n",
            " data[13] -> 13\n",
            " data[14] -> 14\n",
            " data[15] -> 15\n",
            " data[16] -> 16\n",
            " data[17] -> 17\n",
            " data[18] -> 18\n",
            " data[19] -> 19\n",
            " data[20] -> 20\n",
            " data[21] -> 21\n",
            " data[22] -> 22\n",
            " data[23] -> 23\n",
            " data[24] -> 24\n",
            " data[25] -> 25\n",
            " data[26] -> 26\n",
            " data[27] -> 27\n",
            " data[28] -> 28\n",
            " data[29] -> 29\n",
            " data[30] -> 30\n",
            " data[31] -> 31\n",
            " data[32] -> 32\n",
            " data[33] -> 33\n",
            " data[34] -> 34\n",
            " data[35] -> 35\n",
            " data[36] -> 36\n",
            " data[37] -> 37\n",
            " data[38] -> 38\n",
            " data[39] -> 39\n",
            " data[40] -> 40\n",
            " data[41] -> 41\n",
            " data[42] -> 42\n",
            " data[43] -> 43\n",
            " data[44] -> 44\n",
            " data[45] -> 45\n",
            " data[46] -> 46\n",
            " data[47] -> 47\n",
            " data[48] -> 48\n",
            " data[49] -> 49\n",
            " data[50] -> 50\n",
            " data[51] -> 51\n",
            " data[52] -> 52\n",
            " data[53] -> 53\n",
            " data[54] -> 54\n",
            " data[55] -> 55\n",
            " data[56] -> 56\n",
            " data[57] -> 57\n",
            " data[58] -> 58\n",
            " data[59] -> 59\n",
            " data[60] -> 60\n",
            " data[61] -> 61\n",
            " data[62] -> 62\n",
            " data[63] -> 63\n",
            " data[64] -> 64\n",
            " data[65] -> 65\n",
            " data[66] -> 66\n",
            " data[67] -> 67\n",
            " data[68] -> 68\n",
            " data[69] -> 69\n",
            " data[70] -> 70\n",
            " data[71] -> 71\n",
            " data[72] -> 72\n",
            " data[73] -> 73\n",
            " data[74] -> 74\n",
            " data[75] -> 75\n",
            " data[76] -> 76\n",
            " data[77] -> 77\n",
            " data[78] -> 78\n",
            " data[79] -> 79\n",
            " data[80] -> 80\n",
            " data[81] -> 81\n",
            " data[82] -> 82\n",
            " data[83] -> 83\n",
            " data[84] -> 84\n",
            " data[85] -> 85\n",
            " data[86] -> 86\n",
            " data[87] -> 87\n",
            " data[88] -> 88\n",
            " data[89] -> 89\n",
            " data[90] -> 90\n",
            " data[91] -> 91\n",
            " data[92] -> 92\n",
            " data[93] -> 93\n",
            " data[94] -> 94\n",
            " data[95] -> 95\n",
            " data[96] -> 96\n",
            " data[97] -> 97\n",
            " data[98] -> 98\n",
            " data[99] -> 99\n",
            "\n"
          ]
        }
      ],
      "source": [
        "%%cu\n",
        "#include <stdio.h>\n",
        "\n",
        "inline cudaError_t checkCudaErr(cudaError_t err, const char* msg) {\n",
        "  if (err != cudaSuccess) {\n",
        "    fprintf(stderr, \"CUDA Runtime error at %s: %s\\n\", msg, cudaGetErrorString(err));\n",
        "  }\n",
        "  return err;\n",
        "}\n",
        " \n",
        "\n",
        "__global__ void InitData(int* data) \n",
        "{\n",
        "    data[threadIdx.x] += threadIdx.x; \n",
        "}\n",
        "\n",
        "int main()\n",
        "{\n",
        "  const int N = 100;  \n",
        "\n",
        "  int* h_data = (int*)malloc(N * sizeof(int));\n",
        "  int* d_data;\n",
        "\n",
        "  //allocate memory on device\n",
        "  cudaMalloc((void **)&d_data, N*sizeof(int));\n",
        "\n",
        "  //call kernel  \n",
        "  InitData<<<1,N>>>(d_data);\n",
        "\n",
        "  checkCudaErr(cudaDeviceSynchronize(), \"Syncronization\");\n",
        "  checkCudaErr(cudaGetLastError(), \"GPU Error\");\n",
        " \n",
        "  //copy device data to host memory\n",
        "  checkCudaErr(cudaMemcpy(h_data, d_data, N*sizeof(int), cudaMemcpyDeviceToHost), \"cudaMemcpy D->H\");\n",
        "  \n",
        "  printf(\"Data (on device): \\n\");\n",
        "  for(int i=0; i<N; ++i)\n",
        "     printf(\" data[%d] -> %d\\n\", i, h_data[i]); \n",
        "\n",
        "  //release GPU memory\n",
        "  cudaFree(d_data);\n",
        "  free(h_data);\n",
        "\n",
        "  return 0;\n",
        "}"
      ]
    }
  ],
  "metadata": {
    "accelerator": "GPU",
    "colab": {
      "include_colab_link": true,
      "provenance": []
    },
    "gpuClass": "standard",
    "kernelspec": {
      "display_name": "Python 3",
      "name": "python3"
    },
    "language_info": {
      "name": "python"
    }
  },
  "nbformat": 4,
  "nbformat_minor": 0
}
