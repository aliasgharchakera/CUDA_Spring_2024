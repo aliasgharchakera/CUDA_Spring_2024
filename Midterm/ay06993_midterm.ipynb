{
  "cells": [
    {
      "cell_type": "markdown",
      "metadata": {
        "id": "view-in-github",
        "colab_type": "text"
      },
      "source": [
        "<a href=\"https://colab.research.google.com/github/aliasgharchakera/CUDA_Spring_2024/blob/main/Midterm/ay06993_midterm.ipynb\" target=\"_parent\"><img src=\"https://colab.research.google.com/assets/colab-badge.svg\" alt=\"Open In Colab\"/></a>"
      ]
    },
    {
      "cell_type": "code",
      "execution_count": 2,
      "metadata": {
        "colab": {
          "base_uri": "https://localhost:8080/"
        },
        "id": "kBUHmmqQHOS-",
        "outputId": "bb727806-d93a-4892-cc2d-855439bc897b"
      },
      "outputs": [
        {
          "output_type": "stream",
          "name": "stdout",
          "text": [
            "Collecting git+https://github.com/andreinechaev/nvcc4jupyter.git\n",
            "  Cloning https://github.com/andreinechaev/nvcc4jupyter.git to /tmp/pip-req-build-a3ldc2pt\n",
            "  Running command git clone --filter=blob:none --quiet https://github.com/andreinechaev/nvcc4jupyter.git /tmp/pip-req-build-a3ldc2pt\n",
            "  Resolved https://github.com/andreinechaev/nvcc4jupyter.git to commit 781ff5b76ba6c4c2d80dcbbec9983e147613cc71\n",
            "  Installing build dependencies ... \u001b[?25l\u001b[?25hdone\n",
            "  Getting requirements to build wheel ... \u001b[?25l\u001b[?25hdone\n",
            "  Preparing metadata (pyproject.toml) ... \u001b[?25l\u001b[?25hdone\n",
            "Source files will be saved in \"/tmp/tmpvg3pxrcb\".\n"
          ]
        }
      ],
      "source": [
        "!pip install git+https://github.com/andreinechaev/nvcc4jupyter.git\n",
        "%load_ext nvcc4jupyter"
      ]
    },
    {
      "cell_type": "code",
      "source": [
        "%%cuda\n",
        "#include <stdio.h>\n",
        "#define MAX_ITERATIONS 100\n",
        "\n",
        "int main(){\n",
        "  float a[1024][1024];\n",
        "  float l[1024][1024];\n",
        "  for(int k=0;k<MAX_ITERATIONS-1;k++)\n",
        "  {\n",
        "    for(int j=1;j<1023;j++)\n",
        "    {\n",
        "        for(int i=1;i<1023;i++)\n",
        "        {\n",
        "          l[i][j] = (a[i+1][j] + a[i-1][j] + a[i][j+1] + a[i][j-1]) / 4;\n",
        "        }\n",
        "    }\n",
        "    for(int j=1;j<1023;j++)\n",
        "    {\n",
        "        for(int i=1;i<1023;i++)\n",
        "        {\n",
        "          a[i][j] = l[i][j];\n",
        "        }\n",
        "    }\n",
        "  }\n",
        "  printf(\"Hello World\");\n",
        "  return 0;\n",
        "}"
      ],
      "metadata": {
        "id": "1khyC9mYm6QG",
        "outputId": "1c13e2be-59a3-4efa-f0ee-38167b6ea3ca",
        "colab": {
          "base_uri": "https://localhost:8080/"
        }
      },
      "execution_count": 16,
      "outputs": [
        {
          "output_type": "stream",
          "name": "stdout",
          "text": [
            "\n"
          ]
        }
      ]
    },
    {
      "cell_type": "code",
      "execution_count": 31,
      "metadata": {
        "colab": {
          "base_uri": "https://localhost:8080/"
        },
        "id": "P71PB1boHhgz",
        "outputId": "29e581b7-b1a6-4253-a918-295f4ba8125b"
      },
      "outputs": [
        {
          "output_type": "stream",
          "name": "stdout",
          "text": [
            "a[0][0] = 1.000000\n",
            "a[N-1][N-1] = 1.000000\n",
            "\n"
          ]
        }
      ],
      "source": [
        "%%cuda\n",
        "#include <stdio.h>\n",
        "#include <stdlib.h>\n",
        "\n",
        "#define MAX_ITERATIONS 100\n",
        "#define N 1024\n",
        "\n",
        "__global__ void kernel(float* a, float* l)\n",
        "{\n",
        "   int i = blockIdx.x * blockDim.x + threadIdx.x;\n",
        "   int j = blockIdx.y * blockDim.y + threadIdx.y;\n",
        "\n",
        "   if (i > 0 && i < N-1 && j > 0 && j < N-1)\n",
        "   {\n",
        "      l[i * N + j] = (a[(i+1) * N + j] + a[(i-1) * N + j] + a[i * N + (j+1)] + a[i * N + (j-1)]) / 4;\n",
        "   }\n",
        "}\n",
        "\n",
        "int main()\n",
        "{\n",
        "    const int SIZE = N*N;\n",
        "    float *d_a, *d_l;\n",
        "\n",
        "    // Allocate memory for host arrays\n",
        "    float* h_a = (float*)malloc(SIZE * sizeof(float));\n",
        "    float* h_l = (float*)malloc(SIZE * sizeof(float));\n",
        "    for (int i = 0; i < SIZE; i++)\n",
        "    {\n",
        "        h_a[i] = 1.0;\n",
        "        h_l[i] = 1.0;\n",
        "    }\n",
        "\n",
        "    // Allocate memory on the device\n",
        "    cudaMalloc((void**)&d_a, SIZE * sizeof(float));\n",
        "    cudaMalloc((void**)&d_l, SIZE * sizeof(float));\n",
        "\n",
        "    // Copy data from host to device\n",
        "    cudaMemcpy(d_a, h_a, SIZE * sizeof(float), cudaMemcpyHostToDevice);\n",
        "    cudaMemcpy(d_l, h_l, SIZE * sizeof(float), cudaMemcpyHostToDevice);\n",
        "\n",
        "    dim3 blockDim(16, 16);\n",
        "    dim3 gridDim((N + blockDim.x - 1) / blockDim.x, (N + blockDim.y - 1) / blockDim.y);\n",
        "\n",
        "    for (int k = 0; k < MAX_ITERATIONS - 1; k++)\n",
        "    {\n",
        "        kernel<<<gridDim, blockDim>>>(d_a, d_l);\n",
        "        cudaDeviceSynchronize();\n",
        "        cudaMemcpy(d_a, d_l, SIZE * sizeof(float), cudaMemcpyDeviceToDevice);\n",
        "    }\n",
        "\n",
        "    // Copy data from device to host\n",
        "    cudaMemcpy(h_a, d_a, SIZE * sizeof(float), cudaMemcpyDeviceToHost);\n",
        "\n",
        "    printf(\"a[0][0] = %f\\n\", h_a[0]);\n",
        "    printf(\"a[N-1][N-1] = %f\\n\", h_a[SIZE-1]);\n",
        "\n",
        "    // Free device memory\n",
        "    cudaFree(d_a);\n",
        "    cudaFree(d_l);\n",
        "\n",
        "    // Free memory for host arrays\n",
        "    free(h_a);\n",
        "    free(h_l);\n",
        "\n",
        "    return 0;\n",
        "}"
      ]
    }
  ],
  "metadata": {
    "accelerator": "GPU",
    "colab": {
      "provenance": [],
      "include_colab_link": true
    },
    "gpuClass": "standard",
    "kernelspec": {
      "display_name": "Python 3",
      "name": "python3"
    },
    "language_info": {
      "name": "python"
    }
  },
  "nbformat": 4,
  "nbformat_minor": 0
}