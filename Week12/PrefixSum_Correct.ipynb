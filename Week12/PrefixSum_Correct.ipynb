{
  "nbformat": 4,
  "nbformat_minor": 0,
  "metadata": {
    "colab": {
      "name": "PrefixSum_Correct.ipynb",
      "provenance": [],
      "include_colab_link": true
    },
    "kernelspec": {
      "name": "python3",
      "display_name": "Python 3"
    },
    "language_info": {
      "name": "python"
    },
    "accelerator": "GPU"
  },
  "cells": [
    {
      "cell_type": "markdown",
      "metadata": {
        "id": "view-in-github",
        "colab_type": "text"
      },
      "source": [
        "<a href=\"https://colab.research.google.com/github/mmmovania/CUDA_Spring_2024/blob/main/Week12/PrefixSum_Correct.ipynb\" target=\"_parent\"><img src=\"https://colab.research.google.com/assets/colab-badge.svg\" alt=\"Open In Colab\"/></a>"
      ]
    },
    {
      "cell_type": "code",
      "execution_count": null,
      "metadata": {
        "colab": {
          "base_uri": "https://localhost:8080/"
        },
        "id": "OB2MY3st-VUm",
        "outputId": "9e1e9c67-51ee-498e-b2b3-bb1b1c6d7568"
      },
      "outputs": [
        {
          "output_type": "stream",
          "name": "stdout",
          "text": [
            "Looking in indexes: https://pypi.org/simple, https://us-python.pkg.dev/colab-wheels/public/simple/\n",
            "Collecting git+https://github.com/andreinechaev/nvcc4jupyter.git\n",
            "  Cloning https://github.com/andreinechaev/nvcc4jupyter.git to /tmp/pip-req-build-s0qj0lci\n",
            "  Running command git clone --filter=blob:none --quiet https://github.com/andreinechaev/nvcc4jupyter.git /tmp/pip-req-build-s0qj0lci\n",
            "  Resolved https://github.com/andreinechaev/nvcc4jupyter.git to commit aac710a35f52bb78ab34d2e52517237941399eff\n",
            "  Preparing metadata (setup.py) ... \u001b[?25l\u001b[?25hdone\n",
            "Building wheels for collected packages: NVCCPlugin\n",
            "  Building wheel for NVCCPlugin (setup.py) ... \u001b[?25l\u001b[?25hdone\n",
            "  Created wheel for NVCCPlugin: filename=NVCCPlugin-0.0.2-py3-none-any.whl size=4304 sha256=3ea7c77559fe49479e98ea4a701933d8dfd4f3770b1f9b544cf34923acf1ef88\n",
            "  Stored in directory: /tmp/pip-ephem-wheel-cache-lrdvn9ks/wheels/f3/08/cc/e2b5b0e1c92df07dbb50a6f024a68ce090f5e7b2316b41756d\n",
            "Successfully built NVCCPlugin\n",
            "Installing collected packages: NVCCPlugin\n",
            "Successfully installed NVCCPlugin-0.0.2\n",
            "created output directory at /content/src\n",
            "Out bin /content/result.out\n"
          ]
        }
      ],
      "source": [
        "!pip install git+https://github.com/andreinechaev/nvcc4jupyter.git\n",
        "%load_ext nvcc4jupyter"
      ]
    },
    {
      "cell_type": "code",
      "source": [
        "%%cuda\n",
        "#include <stdio.h>\n",
        "\n",
        "#define SECTION_SIZE 4\n",
        "\n",
        "inline cudaError_t checkCudaErr(cudaError_t err, const char* msg) {\n",
        "  if (err != cudaSuccess) {\n",
        "    fprintf(stderr, \"CUDA Runtime error at %s: %s\\n\", msg, cudaGetErrorString(err));\n",
        "  }\n",
        "  return err;\n",
        "}\n",
        "\n",
        "//CPU version\n",
        "void sequential_scan(int* x, int* y, int N)\n",
        "{\n",
        "  y[0]=x[0];\n",
        "  for (int i=1; i < N; i++)\n",
        "  {\n",
        "    y[i]= y [i-1] + x[i];\n",
        "  }\n",
        "}\n",
        "\n",
        "__global__ void work_inefficient_inc_scan_kernel(int *X, int *Y, int N) {\n",
        "  __shared__ int XY[SECTION_SIZE];\n",
        "  int i = blockIdx.x*blockDim.x + threadIdx.x;\n",
        "  if (i < N) {\n",
        "    XY[threadIdx.x] = X[i];\n",
        "  }\n",
        "\n",
        "  // the code below performs iterative scan on XY\n",
        "  for (unsigned int stride=1; stride<=threadIdx.x; stride*= 2)\n",
        "  {\n",
        "    __syncthreads();\n",
        "    XY[threadIdx.x] += XY[threadIdx.x-stride];\n",
        "  }\n",
        "\n",
        "  Y[i] = XY[threadIdx.x];\n",
        "}\n",
        "\n",
        "int main()\n",
        "{\n",
        "\t\tint   *X, *Y;\n",
        "    const int N = 16;\n",
        "    const int threadsPerBlock = SECTION_SIZE;\n",
        "    const int blocksPerGrid =  (N / threadsPerBlock);\n",
        "\n",
        "    // Allocate Unified Memory -- accessible from CPU or GPU\n",
        "    checkCudaErr(cudaMallocManaged(&X, N*sizeof(int)), \"cudaMallocManaged1\");\n",
        "    checkCudaErr(cudaMallocManaged(&Y, N*sizeof(int)), \"cudaMallocManaged2\");\n",
        "\n",
        "    // fill in the memory with data\n",
        "    for (int i=0; i<N; i++)\n",
        "    {\n",
        "        X[i] = i+1;\n",
        "        Y[i] = 0;\n",
        "    }\n",
        "\n",
        "    // Prefetch the data to the GPU\n",
        "    int device = -1;\n",
        "    cudaGetDevice(&device);\n",
        "    cudaMemPrefetchAsync(X, N*sizeof(int), device, NULL);\n",
        "    cudaMemPrefetchAsync(Y, N*sizeof(int), device, NULL);\n",
        "\n",
        "    cudaEvent_t start, stop;\n",
        "    float gpu_elapsed_time_ms=0, cpu_elapsed_time_ms=0;\n",
        "    cudaEventCreate(&start);\n",
        "    cudaEventCreate(&stop);\n",
        "\n",
        "    ////lets time the CPU code\n",
        "    cudaEventRecord(start, 0);\n",
        "    sequential_scan(X, Y, N);\n",
        "    cudaEventRecord(stop, 0);\n",
        "    cudaEventSynchronize(stop);\n",
        "    cudaEventElapsedTime(&cpu_elapsed_time_ms, start, stop);\n",
        "\n",
        "    //reset Y for GPU\n",
        "    for (int i=0; i<N; i++)\n",
        "    {\n",
        "        Y[i] = 0;\n",
        "    }\n",
        "\n",
        "    //lets time the GPU code\n",
        "    cudaEventRecord(start, 0);\n",
        "    work_inefficient_inc_scan_kernel<<<1,N>>>(X, Y, N);\n",
        "\n",
        "    cudaDeviceSynchronize();\n",
        "\n",
        "    // time counting terminate\n",
        "    cudaEventRecord(stop, 0);\n",
        "    cudaEventSynchronize(stop);\n",
        "\n",
        "    // compute time elapse on GPU computing\n",
        "    cudaEventElapsedTime(&gpu_elapsed_time_ms, start, stop);\n",
        "\n",
        "    //output the result\n",
        "    puts(\"Prefix Scan Results:\");\n",
        "    printf(\"CPU Time: %3.3f msecs, GPU Time: %3.3f\\n\",cpu_elapsed_time_ms, gpu_elapsed_time_ms);\n",
        "    puts(\"X[i]\\t| Y[i]\");\n",
        "    puts(\"--------+-------\");\n",
        "\n",
        "    for(int i=0; i<N; ++i)\n",
        "      printf(\"%3d\\t| %3d\\n\", X[i], Y[i]);\n",
        "\n",
        "    // free memory on the gpu side\n",
        "    checkCudaErr( cudaFree( X ) , \"cudaFree1\");\n",
        "    checkCudaErr( cudaFree( Y ) , \"cudaFree2\");\n",
        "\t\tcheckCudaErr( cudaDeviceReset(), \"cudaDeviceReset\");\n",
        "\n",
        "\t\treturn 0;\n",
        "}"
      ],
      "metadata": {
        "id": "GYZ627HO-XKd",
        "colab": {
          "base_uri": "https://localhost:8080/"
        },
        "outputId": "cbcf75de-7b62-4086-dfb7-c4cbc71f8d31"
      },
      "execution_count": null,
      "outputs": [
        {
          "output_type": "stream",
          "name": "stdout",
          "text": [
            "Prefix Scan Results:\n",
            "CPU Time: 0.019 msecs, GPU Time: 0.270\n",
            "X[i]\t| Y[i]\n",
            "--------+-------\n",
            "  1\t|   1\n",
            "  2\t|   3\n",
            "  3\t|   6\n",
            "  4\t|  10\n",
            "  5\t|  15\n",
            "  6\t|  21\n",
            "  7\t|  28\n",
            "  8\t|  36\n",
            "  9\t|  45\n",
            " 10\t|  55\n",
            " 11\t|  66\n",
            " 12\t|  78\n",
            " 13\t|  91\n",
            " 14\t| 105\n",
            " 15\t| 120\n",
            " 16\t| 136\n",
            "\n"
          ]
        }
      ]
    }
  ]
}
