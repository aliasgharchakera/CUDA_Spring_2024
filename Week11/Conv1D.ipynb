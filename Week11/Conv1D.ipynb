{
  "nbformat": 4,
  "nbformat_minor": 0,
  "metadata": {
    "colab": {
      "provenance": [],
      "include_colab_link": true
    },
    "kernelspec": {
      "name": "python3",
      "display_name": "Python 3"
    },
    "language_info": {
      "name": "python"
    },
    "accelerator": "GPU"
  },
  "cells": [
    {
      "cell_type": "markdown",
      "metadata": {
        "id": "view-in-github",
        "colab_type": "text"
      },
      "source": [
        "<a href=\"https://colab.research.google.com/github/mmmovania/CUDA_Spring_2024/blob/main/Week11/Conv1D.ipynb\" target=\"_parent\"><img src=\"https://colab.research.google.com/assets/colab-badge.svg\" alt=\"Open In Colab\"/></a>"
      ]
    },
    {
      "cell_type": "code",
      "execution_count": 1,
      "metadata": {
        "colab": {
          "base_uri": "https://localhost:8080/"
        },
        "id": "OB2MY3st-VUm",
        "outputId": "cdc36b8e-7274-4047-b1d9-a9f4fff6efa0"
      },
      "outputs": [
        {
          "output_type": "stream",
          "name": "stdout",
          "text": [
            "Collecting git+https://github.com/andreinechaev/nvcc4jupyter.git\n",
            "  Cloning https://github.com/andreinechaev/nvcc4jupyter.git to /tmp/pip-req-build-jmhnadi_\n",
            "  Running command git clone --filter=blob:none --quiet https://github.com/andreinechaev/nvcc4jupyter.git /tmp/pip-req-build-jmhnadi_\n",
            "  Resolved https://github.com/andreinechaev/nvcc4jupyter.git to commit 781ff5b76ba6c4c2d80dcbbec9983e147613cc71\n",
            "  Installing build dependencies ... \u001b[?25l\u001b[?25hdone\n",
            "  Getting requirements to build wheel ... \u001b[?25l\u001b[?25hdone\n",
            "  Preparing metadata (pyproject.toml) ... \u001b[?25l\u001b[?25hdone\n",
            "Building wheels for collected packages: nvcc4jupyter\n",
            "  Building wheel for nvcc4jupyter (pyproject.toml) ... \u001b[?25l\u001b[?25hdone\n",
            "  Created wheel for nvcc4jupyter: filename=nvcc4jupyter-1.1.0-py3-none-any.whl size=8011 sha256=e2b2acbb79d726227ace2ffdeb18b901e4debb9cf9419b13a35a389a655ee4ac\n",
            "  Stored in directory: /tmp/pip-ephem-wheel-cache-bhrqf1ws/wheels/a8/b9/18/23f8ef71ceb0f63297dd1903aedd067e6243a68ea756d6feea\n",
            "Successfully built nvcc4jupyter\n",
            "Installing collected packages: nvcc4jupyter\n",
            "Successfully installed nvcc4jupyter-1.1.0\n",
            "Source files will be saved in \"/tmp/tmpjzq9w2if\".\n"
          ]
        }
      ],
      "source": [
        "!pip install git+https://github.com/andreinechaev/nvcc4jupyter.git\n",
        "%load_ext nvcc4jupyter"
      ]
    },
    {
      "cell_type": "code",
      "source": [
        "%%cuda\n",
        "#include <stdio.h>\n",
        "\n",
        "\n",
        "inline cudaError_t checkCudaErr(cudaError_t err, const char* msg) {\n",
        "  if (err != cudaSuccess) {\n",
        "    fprintf(stderr, \"CUDA Runtime error at %s: %s\\n\", msg, cudaGetErrorString(err));\n",
        "  }\n",
        "  return err;\n",
        "}\n",
        "\n",
        "__global__ void convolution_1D_basic_kernel(float* N, float* M, float* P,\n",
        "                                            int Mask_Width, int Width)\n",
        "{\n",
        "  int i = blockIdx.x*blockDim.x+threadIdx.x;\n",
        "  float Pvalue=0;\n",
        "  int N_start_point = i-Mask_Width/2;\n",
        "  for (int j=0; j<Mask_Width; j++)\n",
        "  {\n",
        "    if(N_start_point+j>=0 && N_start_point+j< Width)\n",
        "    {\n",
        "      Pvalue += N[N_start_point+j]*M[j];\n",
        "    }\n",
        "  }\n",
        "  P[i]=Pvalue;\n",
        "}\n",
        "\n",
        "int main() {\n",
        "\t\tfloat   *a, *k, *c=0;\n",
        "    const int N = 16;\n",
        "    const int MASK_WIDTH = 5;\n",
        "    const int threadsPerBlock = 4;\n",
        "\n",
        "    float kernel[MASK_WIDTH]={3,4,5,4,3};\n",
        "\n",
        "    // Allocate Unified Memory -- accessible from CPU or GPU\n",
        "    checkCudaErr(cudaMallocManaged(&a, N*sizeof(float)), \"cudaMallocManaged1\");\n",
        "    checkCudaErr(cudaMallocManaged(&c, N*sizeof(float)), \"cudaMallocManaged1\");\n",
        "    checkCudaErr(cudaMallocManaged(&k, MASK_WIDTH*sizeof(float)), \"cudaMallocManaged2\");\n",
        "\n",
        "    // fill in the memory with data\n",
        "    for (int i=0; i<N; i++) {\n",
        "        a[i] = i+1;\n",
        "        c[i] = 0;\n",
        "        if(i<MASK_WIDTH)\n",
        "            k[i]=kernel[i];\n",
        "    }\n",
        "\n",
        "    const int blocksPerGrid =  (N / threadsPerBlock);\n",
        "\n",
        "    // Prefetch the data to the GPU\n",
        "    int device = -1;\n",
        "    cudaGetDevice(&device);\n",
        "    cudaMemPrefetchAsync(a, N*sizeof(float), device, NULL);\n",
        "    cudaMemPrefetchAsync(k, MASK_WIDTH*sizeof(float), device, NULL);\n",
        "\n",
        "    //lets time the conv1D kernel\n",
        "    cudaEvent_t start, stop;\n",
        "    float gpu_elapsed_time_ms=0;\n",
        "    cudaEventCreate(&start);\n",
        "    cudaEventCreate(&stop);\n",
        "\n",
        "     // start to count execution time\n",
        "    cudaEventRecord(start, 0);\n",
        "    convolution_1D_basic_kernel<<<blocksPerGrid,threadsPerBlock>>>(a, k, c, MASK_WIDTH, N);\n",
        "\n",
        "    cudaDeviceSynchronize();\n",
        "\n",
        "    // time counting terminate\n",
        "    cudaEventRecord(stop, 0);\n",
        "    cudaEventSynchronize(stop);\n",
        "\n",
        "    // compute time elapse on GPU computing\n",
        "    cudaEventElapsedTime(&gpu_elapsed_time_ms, start, stop);\n",
        "\n",
        "    //output the result\n",
        "    printf(\"Conv1D Result calculated in %3.3f msecs: \\n\", gpu_elapsed_time_ms);\n",
        "    for(int i=0; i<N; ++i)\n",
        "      printf(\" p[%d] = %3.3f\\n\", i, c[i]);\n",
        "\n",
        "    // free memory on the gpu side\n",
        "    checkCudaErr( cudaFree( a ) , \"cudaFree1\");\n",
        "    checkCudaErr( cudaFree( k ) , \"cudaFree2\");\n",
        "    checkCudaErr( cudaFree( c ) , \"cudaFree3\");\n",
        "\t\tcheckCudaErr( cudaDeviceReset(), \"cudaDeviceReset\");\n",
        "\n",
        "\t\treturn 0;\n",
        "}"
      ],
      "metadata": {
        "colab": {
          "base_uri": "https://localhost:8080/"
        },
        "id": "GYZ627HO-XKd",
        "outputId": "440a9064-4fe3-4398-8399-b4582599d06d"
      },
      "execution_count": 2,
      "outputs": [
        {
          "output_type": "stream",
          "name": "stdout",
          "text": [
            "Conv1D Result calculated in 163.408 msecs: \n",
            " p[0] = 22.000\n",
            " p[1] = 38.000\n",
            " p[2] = 57.000\n",
            " p[3] = 76.000\n",
            " p[4] = 95.000\n",
            " p[5] = 114.000\n",
            " p[6] = 133.000\n",
            " p[7] = 152.000\n",
            " p[8] = 171.000\n",
            " p[9] = 190.000\n",
            " p[10] = 209.000\n",
            " p[11] = 228.000\n",
            " p[12] = 247.000\n",
            " p[13] = 266.000\n",
            " p[14] = 234.000\n",
            " p[15] = 182.000\n",
            "\n"
          ]
        }
      ]
    }
  ]
}