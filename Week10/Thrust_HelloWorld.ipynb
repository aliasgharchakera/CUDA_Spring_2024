{
  "nbformat": 4,
  "nbformat_minor": 0,
  "metadata": {
    "colab": {
      "provenance": [],
      "gpuType": "T4",
      "authorship_tag": "ABX9TyM6ZmpSNioVsws6xkSFHXsN",
      "include_colab_link": true
    },
    "kernelspec": {
      "name": "python3",
      "display_name": "Python 3"
    },
    "language_info": {
      "name": "python"
    },
    "accelerator": "GPU"
  },
  "cells": [
    {
      "cell_type": "markdown",
      "metadata": {
        "id": "view-in-github",
        "colab_type": "text"
      },
      "source": [
        "<a href=\"https://colab.research.google.com/github/mmmovania/CUDA_Spring_2024/blob/main/Week10/Thrust_HelloWorld.ipynb\" target=\"_parent\"><img src=\"https://colab.research.google.com/assets/colab-badge.svg\" alt=\"Open In Colab\"/></a>"
      ]
    },
    {
      "cell_type": "code",
      "execution_count": 1,
      "metadata": {
        "colab": {
          "base_uri": "https://localhost:8080/"
        },
        "id": "bv-PBpenHtnn",
        "outputId": "1cb5f6b0-16c1-4b94-f2b7-41e8a0167ae3"
      },
      "outputs": [
        {
          "output_type": "stream",
          "name": "stdout",
          "text": [
            "Collecting git+https://github.com/andreinechaev/nvcc4jupyter.git\n",
            "  Cloning https://github.com/andreinechaev/nvcc4jupyter.git to /tmp/pip-req-build-gwbe0df3\n",
            "  Running command git clone --filter=blob:none --quiet https://github.com/andreinechaev/nvcc4jupyter.git /tmp/pip-req-build-gwbe0df3\n",
            "  Resolved https://github.com/andreinechaev/nvcc4jupyter.git to commit 781ff5b76ba6c4c2d80dcbbec9983e147613cc71\n",
            "  Installing build dependencies ... \u001b[?25l\u001b[?25hdone\n",
            "  Getting requirements to build wheel ... \u001b[?25l\u001b[?25hdone\n",
            "  Preparing metadata (pyproject.toml) ... \u001b[?25l\u001b[?25hdone\n",
            "Building wheels for collected packages: nvcc4jupyter\n",
            "  Building wheel for nvcc4jupyter (pyproject.toml) ... \u001b[?25l\u001b[?25hdone\n",
            "  Created wheel for nvcc4jupyter: filename=nvcc4jupyter-1.1.0-py3-none-any.whl size=8011 sha256=e2b2acbb79d726227ace2ffdeb18b901e4debb9cf9419b13a35a389a655ee4ac\n",
            "  Stored in directory: /tmp/pip-ephem-wheel-cache-agd87h79/wheels/a8/b9/18/23f8ef71ceb0f63297dd1903aedd067e6243a68ea756d6feea\n",
            "Successfully built nvcc4jupyter\n",
            "Installing collected packages: nvcc4jupyter\n",
            "Successfully installed nvcc4jupyter-1.1.0\n",
            "Source files will be saved in \"/tmp/tmpvj1k004_\".\n"
          ]
        }
      ],
      "source": [
        "!pip install git+https://github.com/andreinechaev/nvcc4jupyter.git\n",
        "%load_ext nvcc4jupyter"
      ]
    },
    {
      "cell_type": "code",
      "source": [
        "%%cuda\n",
        "#include <thrust/host_vector.h>\n",
        "#include <thrust/device_vector.h>\n",
        "#include <iostream>\n",
        "\n",
        "int main(void)\n",
        "{\n",
        "  // H has storage for 4 integers\n",
        "  thrust::host_vector<int> H(4);\n",
        "  // initialize individual elements\n",
        "  H[0] = 14;\n",
        "  H[1] = 20;\n",
        "  H[2] = 38;\n",
        "  H[3] = 46;\n",
        "  // H.size() returns the size of vector H\n",
        "  std::cout << \"H has size \" << H.size() << std::endl;\n",
        "  // print contents of H\n",
        "  for(int i = 0; i < H.size(); i++)\n",
        "    std::cout << \"H[\" << i << \"] = \" << H[i] << std::endl;\n",
        "\n",
        "  // resize H\n",
        "  H.resize(2);\n",
        "\n",
        "  std::cout << \"H now has size \" << H.size() << std::endl;\n",
        "\n",
        "  // Copy host_vector H to device_vector D\n",
        "  thrust::device_vector<int> D = H;\n",
        "\n",
        "  // elements of D can be modified\n",
        "  D[0] = 99;\n",
        "  D[1] = 88;\n",
        "\n",
        "  // print contents of D\n",
        "  for(int i = 0; i < D.size(); i++)\n",
        "    std::cout << \"D[\" << i << \"] = \" << D[i] << std::endl;\n",
        "\n",
        "  // H and D are automatically deleted when the function returns\n",
        "  return 0;\n",
        "}"
      ],
      "metadata": {
        "colab": {
          "base_uri": "https://localhost:8080/"
        },
        "id": "RI5pw4CVH2n8",
        "outputId": "811393ee-5e16-49e8-86d3-5013512d3638"
      },
      "execution_count": 2,
      "outputs": [
        {
          "output_type": "stream",
          "name": "stdout",
          "text": [
            "H has size 4\n",
            "H[0] = 14\n",
            "H[1] = 20\n",
            "H[2] = 38\n",
            "H[3] = 46\n",
            "H now has size 2\n",
            "D[0] = 99\n",
            "D[1] = 88\n",
            "\n"
          ]
        }
      ]
    }
  ]
}