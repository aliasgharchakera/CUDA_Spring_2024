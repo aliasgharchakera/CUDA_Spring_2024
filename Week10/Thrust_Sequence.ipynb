{
  "nbformat": 4,
  "nbformat_minor": 0,
  "metadata": {
    "colab": {
      "provenance": [],
      "gpuType": "T4",
      "authorship_tag": "ABX9TyNnMxImRqUZG4UgMcWVoJuA",
      "include_colab_link": true
    },
    "kernelspec": {
      "name": "python3",
      "display_name": "Python 3"
    },
    "language_info": {
      "name": "python"
    },
    "accelerator": "GPU"
  },
  "cells": [
    {
      "cell_type": "markdown",
      "metadata": {
        "id": "view-in-github",
        "colab_type": "text"
      },
      "source": [
        "<a href=\"https://colab.research.google.com/github/mmmovania/CUDA_Spring_2024/blob/main/Week10/Thrust_Sequence.ipynb\" target=\"_parent\"><img src=\"https://colab.research.google.com/assets/colab-badge.svg\" alt=\"Open In Colab\"/></a>"
      ]
    },
    {
      "cell_type": "code",
      "execution_count": 1,
      "metadata": {
        "colab": {
          "base_uri": "https://localhost:8080/"
        },
        "id": "bv-PBpenHtnn",
        "outputId": "4d8161e6-a108-4533-d1fe-621b95b650bb"
      },
      "outputs": [
        {
          "output_type": "stream",
          "name": "stdout",
          "text": [
            "Collecting git+https://github.com/andreinechaev/nvcc4jupyter.git\n",
            "  Cloning https://github.com/andreinechaev/nvcc4jupyter.git to /tmp/pip-req-build-_h5l3wn8\n",
            "  Running command git clone --filter=blob:none --quiet https://github.com/andreinechaev/nvcc4jupyter.git /tmp/pip-req-build-_h5l3wn8\n",
            "  Resolved https://github.com/andreinechaev/nvcc4jupyter.git to commit 781ff5b76ba6c4c2d80dcbbec9983e147613cc71\n",
            "  Installing build dependencies ... \u001b[?25l\u001b[?25hdone\n",
            "  Getting requirements to build wheel ... \u001b[?25l\u001b[?25hdone\n",
            "  Preparing metadata (pyproject.toml) ... \u001b[?25l\u001b[?25hdone\n",
            "Building wheels for collected packages: nvcc4jupyter\n",
            "  Building wheel for nvcc4jupyter (pyproject.toml) ... \u001b[?25l\u001b[?25hdone\n",
            "  Created wheel for nvcc4jupyter: filename=nvcc4jupyter-1.1.0-py3-none-any.whl size=8011 sha256=e2b2acbb79d726227ace2ffdeb18b901e4debb9cf9419b13a35a389a655ee4ac\n",
            "  Stored in directory: /tmp/pip-ephem-wheel-cache-_8wsv5db/wheels/a8/b9/18/23f8ef71ceb0f63297dd1903aedd067e6243a68ea756d6feea\n",
            "Successfully built nvcc4jupyter\n",
            "Installing collected packages: nvcc4jupyter\n",
            "Successfully installed nvcc4jupyter-1.1.0\n",
            "Source files will be saved in \"/tmp/tmp443bqmu6\".\n"
          ]
        }
      ],
      "source": [
        "!pip install git+https://github.com/andreinechaev/nvcc4jupyter.git\n",
        "%load_ext nvcc4jupyter"
      ]
    },
    {
      "cell_type": "code",
      "source": [
        "%%cuda\n",
        "#include <thrust/host_vector.h>\n",
        "#include <thrust/device_vector.h>\n",
        "#include <thrust/copy.h>\n",
        "#include <thrust/fill.h>\n",
        "#include <thrust/sequence.h>\n",
        "\n",
        "#include <iostream>\n",
        "\n",
        "int main(void)\n",
        "{\n",
        "  //initialize all values of device vector to 1\n",
        "  thrust::device_vector<int> D(10, 1);\n",
        "\n",
        "  //set the first 7 elements of D to 9\n",
        "  thrust::fill(D.begin(), D.end()+7, 9);\n",
        "\n",
        "  //initialize H with the first 5 elements of D\n",
        "  thrust::host_vector<int> H(D.begin(), D.begin()+5);\n",
        "\n",
        "  //initialize H to 0,1,2,3,...\n",
        "  thrust::sequence(H.begin(), H.end());\n",
        "\n",
        "  //copy data from H to D\n",
        "  thrust::copy(H.begin(), H.end(), D.begin());\n",
        "\n",
        "  //output values of D\n",
        "  for(int data:D)\n",
        "     std::cout << data << \" \";\n",
        "\n",
        "  // H and D are automatically deleted when the function returns\n",
        "  return 0;\n",
        "}"
      ],
      "metadata": {
        "colab": {
          "base_uri": "https://localhost:8080/"
        },
        "id": "RI5pw4CVH2n8",
        "outputId": "87ef0679-b615-4ef5-ca7b-40c949756968"
      },
      "execution_count": 3,
      "outputs": [
        {
          "output_type": "stream",
          "name": "stdout",
          "text": [
            "0 1 2 3 4 9 9 9 9 9 \n"
          ]
        }
      ]
    }
  ]
}