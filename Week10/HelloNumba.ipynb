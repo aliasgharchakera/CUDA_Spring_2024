{
  "nbformat": 4,
  "nbformat_minor": 0,
  "metadata": {
    "colab": {
      "name": "HelloNumba.ipynb",
      "provenance": [],
      "authorship_tag": "ABX9TyObx4QHr+zw/GMAEwaPFJ70",
      "include_colab_link": true
    },
    "kernelspec": {
      "name": "python3",
      "display_name": "Python 3"
    },
    "language_info": {
      "name": "python"
    },
    "accelerator": "GPU"
  },
  "cells": [
    {
      "cell_type": "markdown",
      "metadata": {
        "id": "view-in-github",
        "colab_type": "text"
      },
      "source": [
        "<a href=\"https://colab.research.google.com/github/mmmovania/CUDA_Spring_2024/blob/main/Week10/HelloNumba.ipynb\" target=\"_parent\"><img src=\"https://colab.research.google.com/assets/colab-badge.svg\" alt=\"Open In Colab\"/></a>"
      ]
    },
    {
      "cell_type": "code",
      "source": [
        "!pip install numba"
      ],
      "metadata": {
        "colab": {
          "base_uri": "https://localhost:8080/"
        },
        "id": "tO0OWZ7Vw_sK",
        "outputId": "5832e440-fc16-423e-b38d-95ed1801bb86"
      },
      "execution_count": null,
      "outputs": [
        {
          "output_type": "stream",
          "name": "stdout",
          "text": [
            "Requirement already satisfied: numba in /usr/local/lib/python3.7/dist-packages (0.51.2)\n",
            "Requirement already satisfied: setuptools in /usr/local/lib/python3.7/dist-packages (from numba) (57.4.0)\n",
            "Requirement already satisfied: numpy>=1.15 in /usr/local/lib/python3.7/dist-packages (from numba) (1.21.6)\n",
            "Requirement already satisfied: llvmlite<0.35,>=0.34.0.dev0 in /usr/local/lib/python3.7/dist-packages (from numba) (0.34.0)\n"
          ]
        }
      ]
    },
    {
      "cell_type": "code",
      "source": [
        "from numba import cuda\n",
        "import numpy\n",
        "import math\n",
        "\n",
        "# CUDA kernel\n",
        "@cuda.jit\n",
        "def doublify(io_array):\n",
        "    pos = cuda.grid(1)\n",
        "    if pos < io_array.size:\n",
        "        io_array[pos] *= 2 # do the computation\n",
        "\n",
        "# Host code\n",
        "data = numpy.random.randn(16)\n",
        "print(\"Original Array: \", data)\n",
        "\n",
        "threadsperblock = 16\n",
        "blockspergrid = math.ceil(data.shape[0] / threadsperblock)\n",
        "doublify[blockspergrid, threadsperblock](data)\n",
        "\n",
        "print(\"Doubled Array: \", data)"
      ],
      "metadata": {
        "colab": {
          "base_uri": "https://localhost:8080/"
        },
        "id": "infQM3p3G9Ye",
        "outputId": "145533d8-64b7-4169-f7a3-ef1ca82392cd"
      },
      "execution_count": null,
      "outputs": [
        {
          "output_type": "stream",
          "name": "stdout",
          "text": [
            "Original Array:  [ 1.17664443  2.28690162  0.5726742   2.16328219 -0.17541614  2.52597592\n",
            "  0.21971299 -0.87253367  1.10770798 -0.10765986 -0.15432676 -1.14809331\n",
            " -0.92705343 -0.73847284  0.16147749 -1.25620286]\n",
            "Doubled Array:  [ 2.35328886  4.57380323  1.1453484   4.32656439 -0.35083228  5.05195185\n",
            "  0.43942598 -1.74506734  2.21541595 -0.21531972 -0.30865352 -2.29618662\n",
            " -1.85410687 -1.47694568  0.32295499 -2.51240571]\n"
          ]
        }
      ]
    }
  ]
}