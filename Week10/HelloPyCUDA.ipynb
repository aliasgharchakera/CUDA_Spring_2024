{
  "nbformat": 4,
  "nbformat_minor": 0,
  "metadata": {
    "colab": {
      "name": "HelloPyCUDA.ipynb",
      "provenance": [],
      "authorship_tag": "ABX9TyPYper6ifM3muVOyjKD04zb",
      "include_colab_link": true
    },
    "kernelspec": {
      "name": "python3",
      "display_name": "Python 3"
    },
    "language_info": {
      "name": "python"
    },
    "accelerator": "GPU"
  },
  "cells": [
    {
      "cell_type": "markdown",
      "metadata": {
        "id": "view-in-github",
        "colab_type": "text"
      },
      "source": [
        "<a href=\"https://colab.research.google.com/github/mmmovania/CUDA_Spring_2024/blob/main/Week10/HelloPyCUDA.ipynb\" target=\"_parent\"><img src=\"https://colab.research.google.com/assets/colab-badge.svg\" alt=\"Open In Colab\"/></a>"
      ]
    },
    {
      "cell_type": "code",
      "source": [
        "!pip install pycuda"
      ],
      "metadata": {
        "colab": {
          "base_uri": "https://localhost:8080/"
        },
        "id": "tO0OWZ7Vw_sK",
        "outputId": "e468996e-e666-41f2-8994-52f2cce3541d"
      },
      "execution_count": null,
      "outputs": [
        {
          "output_type": "stream",
          "name": "stdout",
          "text": [
            "Collecting pycuda\n",
            "  Downloading pycuda-2021.1.tar.gz (1.7 MB)\n",
            "\u001b[?25l\r\u001b[K     |▏                               | 10 kB 23.2 MB/s eta 0:00:01\r\u001b[K     |▍                               | 20 kB 8.2 MB/s eta 0:00:01\r\u001b[K     |▋                               | 30 kB 7.4 MB/s eta 0:00:01\r\u001b[K     |▉                               | 40 kB 3.5 MB/s eta 0:00:01\r\u001b[K     |█                               | 51 kB 3.6 MB/s eta 0:00:01\r\u001b[K     |█▏                              | 61 kB 4.2 MB/s eta 0:00:01\r\u001b[K     |█▍                              | 71 kB 4.5 MB/s eta 0:00:01\r\u001b[K     |█▋                              | 81 kB 4.7 MB/s eta 0:00:01\r\u001b[K     |█▊                              | 92 kB 5.3 MB/s eta 0:00:01\r\u001b[K     |██                              | 102 kB 4.2 MB/s eta 0:00:01\r\u001b[K     |██▏                             | 112 kB 4.2 MB/s eta 0:00:01\r\u001b[K     |██▍                             | 122 kB 4.2 MB/s eta 0:00:01\r\u001b[K     |██▌                             | 133 kB 4.2 MB/s eta 0:00:01\r\u001b[K     |██▊                             | 143 kB 4.2 MB/s eta 0:00:01\r\u001b[K     |███                             | 153 kB 4.2 MB/s eta 0:00:01\r\u001b[K     |███▏                            | 163 kB 4.2 MB/s eta 0:00:01\r\u001b[K     |███▎                            | 174 kB 4.2 MB/s eta 0:00:01\r\u001b[K     |███▌                            | 184 kB 4.2 MB/s eta 0:00:01\r\u001b[K     |███▊                            | 194 kB 4.2 MB/s eta 0:00:01\r\u001b[K     |████                            | 204 kB 4.2 MB/s eta 0:00:01\r\u001b[K     |████                            | 215 kB 4.2 MB/s eta 0:00:01\r\u001b[K     |████▎                           | 225 kB 4.2 MB/s eta 0:00:01\r\u001b[K     |████▌                           | 235 kB 4.2 MB/s eta 0:00:01\r\u001b[K     |████▊                           | 245 kB 4.2 MB/s eta 0:00:01\r\u001b[K     |████▉                           | 256 kB 4.2 MB/s eta 0:00:01\r\u001b[K     |█████                           | 266 kB 4.2 MB/s eta 0:00:01\r\u001b[K     |█████▎                          | 276 kB 4.2 MB/s eta 0:00:01\r\u001b[K     |█████▌                          | 286 kB 4.2 MB/s eta 0:00:01\r\u001b[K     |█████▋                          | 296 kB 4.2 MB/s eta 0:00:01\r\u001b[K     |█████▉                          | 307 kB 4.2 MB/s eta 0:00:01\r\u001b[K     |██████                          | 317 kB 4.2 MB/s eta 0:00:01\r\u001b[K     |██████▎                         | 327 kB 4.2 MB/s eta 0:00:01\r\u001b[K     |██████▍                         | 337 kB 4.2 MB/s eta 0:00:01\r\u001b[K     |██████▋                         | 348 kB 4.2 MB/s eta 0:00:01\r\u001b[K     |██████▉                         | 358 kB 4.2 MB/s eta 0:00:01\r\u001b[K     |███████                         | 368 kB 4.2 MB/s eta 0:00:01\r\u001b[K     |███████▏                        | 378 kB 4.2 MB/s eta 0:00:01\r\u001b[K     |███████▍                        | 389 kB 4.2 MB/s eta 0:00:01\r\u001b[K     |███████▋                        | 399 kB 4.2 MB/s eta 0:00:01\r\u001b[K     |███████▉                        | 409 kB 4.2 MB/s eta 0:00:01\r\u001b[K     |████████                        | 419 kB 4.2 MB/s eta 0:00:01\r\u001b[K     |████████▏                       | 430 kB 4.2 MB/s eta 0:00:01\r\u001b[K     |████████▍                       | 440 kB 4.2 MB/s eta 0:00:01\r\u001b[K     |████████▋                       | 450 kB 4.2 MB/s eta 0:00:01\r\u001b[K     |████████▊                       | 460 kB 4.2 MB/s eta 0:00:01\r\u001b[K     |█████████                       | 471 kB 4.2 MB/s eta 0:00:01\r\u001b[K     |█████████▏                      | 481 kB 4.2 MB/s eta 0:00:01\r\u001b[K     |█████████▍                      | 491 kB 4.2 MB/s eta 0:00:01\r\u001b[K     |█████████▌                      | 501 kB 4.2 MB/s eta 0:00:01\r\u001b[K     |█████████▊                      | 512 kB 4.2 MB/s eta 0:00:01\r\u001b[K     |██████████                      | 522 kB 4.2 MB/s eta 0:00:01\r\u001b[K     |██████████▏                     | 532 kB 4.2 MB/s eta 0:00:01\r\u001b[K     |██████████▎                     | 542 kB 4.2 MB/s eta 0:00:01\r\u001b[K     |██████████▌                     | 552 kB 4.2 MB/s eta 0:00:01\r\u001b[K     |██████████▊                     | 563 kB 4.2 MB/s eta 0:00:01\r\u001b[K     |███████████                     | 573 kB 4.2 MB/s eta 0:00:01\r\u001b[K     |███████████                     | 583 kB 4.2 MB/s eta 0:00:01\r\u001b[K     |███████████▎                    | 593 kB 4.2 MB/s eta 0:00:01\r\u001b[K     |███████████▌                    | 604 kB 4.2 MB/s eta 0:00:01\r\u001b[K     |███████████▊                    | 614 kB 4.2 MB/s eta 0:00:01\r\u001b[K     |███████████▉                    | 624 kB 4.2 MB/s eta 0:00:01\r\u001b[K     |████████████                    | 634 kB 4.2 MB/s eta 0:00:01\r\u001b[K     |████████████▎                   | 645 kB 4.2 MB/s eta 0:00:01\r\u001b[K     |████████████▌                   | 655 kB 4.2 MB/s eta 0:00:01\r\u001b[K     |████████████▋                   | 665 kB 4.2 MB/s eta 0:00:01\r\u001b[K     |████████████▉                   | 675 kB 4.2 MB/s eta 0:00:01\r\u001b[K     |█████████████                   | 686 kB 4.2 MB/s eta 0:00:01\r\u001b[K     |█████████████▎                  | 696 kB 4.2 MB/s eta 0:00:01\r\u001b[K     |█████████████▍                  | 706 kB 4.2 MB/s eta 0:00:01\r\u001b[K     |█████████████▋                  | 716 kB 4.2 MB/s eta 0:00:01\r\u001b[K     |█████████████▉                  | 727 kB 4.2 MB/s eta 0:00:01\r\u001b[K     |██████████████                  | 737 kB 4.2 MB/s eta 0:00:01\r\u001b[K     |██████████████▏                 | 747 kB 4.2 MB/s eta 0:00:01\r\u001b[K     |██████████████▍                 | 757 kB 4.2 MB/s eta 0:00:01\r\u001b[K     |██████████████▋                 | 768 kB 4.2 MB/s eta 0:00:01\r\u001b[K     |██████████████▉                 | 778 kB 4.2 MB/s eta 0:00:01\r\u001b[K     |███████████████                 | 788 kB 4.2 MB/s eta 0:00:01\r\u001b[K     |███████████████▏                | 798 kB 4.2 MB/s eta 0:00:01\r\u001b[K     |███████████████▍                | 808 kB 4.2 MB/s eta 0:00:01\r\u001b[K     |███████████████▋                | 819 kB 4.2 MB/s eta 0:00:01\r\u001b[K     |███████████████▊                | 829 kB 4.2 MB/s eta 0:00:01\r\u001b[K     |████████████████                | 839 kB 4.2 MB/s eta 0:00:01\r\u001b[K     |████████████████▏               | 849 kB 4.2 MB/s eta 0:00:01\r\u001b[K     |████████████████▍               | 860 kB 4.2 MB/s eta 0:00:01\r\u001b[K     |████████████████▌               | 870 kB 4.2 MB/s eta 0:00:01\r\u001b[K     |████████████████▊               | 880 kB 4.2 MB/s eta 0:00:01\r\u001b[K     |█████████████████               | 890 kB 4.2 MB/s eta 0:00:01\r\u001b[K     |█████████████████▏              | 901 kB 4.2 MB/s eta 0:00:01\r\u001b[K     |█████████████████▍              | 911 kB 4.2 MB/s eta 0:00:01\r\u001b[K     |█████████████████▌              | 921 kB 4.2 MB/s eta 0:00:01\r\u001b[K     |█████████████████▊              | 931 kB 4.2 MB/s eta 0:00:01\r\u001b[K     |██████████████████              | 942 kB 4.2 MB/s eta 0:00:01\r\u001b[K     |██████████████████▏             | 952 kB 4.2 MB/s eta 0:00:01\r\u001b[K     |██████████████████▎             | 962 kB 4.2 MB/s eta 0:00:01\r\u001b[K     |██████████████████▌             | 972 kB 4.2 MB/s eta 0:00:01\r\u001b[K     |██████████████████▊             | 983 kB 4.2 MB/s eta 0:00:01\r\u001b[K     |███████████████████             | 993 kB 4.2 MB/s eta 0:00:01\r\u001b[K     |███████████████████             | 1.0 MB 4.2 MB/s eta 0:00:01\r\u001b[K     |███████████████████▎            | 1.0 MB 4.2 MB/s eta 0:00:01\r\u001b[K     |███████████████████▌            | 1.0 MB 4.2 MB/s eta 0:00:01\r\u001b[K     |███████████████████▊            | 1.0 MB 4.2 MB/s eta 0:00:01\r\u001b[K     |███████████████████▉            | 1.0 MB 4.2 MB/s eta 0:00:01\r\u001b[K     |████████████████████            | 1.1 MB 4.2 MB/s eta 0:00:01\r\u001b[K     |████████████████████▎           | 1.1 MB 4.2 MB/s eta 0:00:01\r\u001b[K     |████████████████████▌           | 1.1 MB 4.2 MB/s eta 0:00:01\r\u001b[K     |████████████████████▋           | 1.1 MB 4.2 MB/s eta 0:00:01\r\u001b[K     |████████████████████▉           | 1.1 MB 4.2 MB/s eta 0:00:01\r\u001b[K     |█████████████████████           | 1.1 MB 4.2 MB/s eta 0:00:01\r\u001b[K     |█████████████████████▎          | 1.1 MB 4.2 MB/s eta 0:00:01\r\u001b[K     |█████████████████████▍          | 1.1 MB 4.2 MB/s eta 0:00:01\r\u001b[K     |█████████████████████▋          | 1.1 MB 4.2 MB/s eta 0:00:01\r\u001b[K     |█████████████████████▉          | 1.1 MB 4.2 MB/s eta 0:00:01\r\u001b[K     |██████████████████████          | 1.2 MB 4.2 MB/s eta 0:00:01\r\u001b[K     |██████████████████████▏         | 1.2 MB 4.2 MB/s eta 0:00:01\r\u001b[K     |██████████████████████▍         | 1.2 MB 4.2 MB/s eta 0:00:01\r\u001b[K     |██████████████████████▋         | 1.2 MB 4.2 MB/s eta 0:00:01\r\u001b[K     |██████████████████████▉         | 1.2 MB 4.2 MB/s eta 0:00:01\r\u001b[K     |███████████████████████         | 1.2 MB 4.2 MB/s eta 0:00:01\r\u001b[K     |███████████████████████▏        | 1.2 MB 4.2 MB/s eta 0:00:01\r\u001b[K     |███████████████████████▍        | 1.2 MB 4.2 MB/s eta 0:00:01\r\u001b[K     |███████████████████████▋        | 1.2 MB 4.2 MB/s eta 0:00:01\r\u001b[K     |███████████████████████▊        | 1.2 MB 4.2 MB/s eta 0:00:01\r\u001b[K     |████████████████████████        | 1.3 MB 4.2 MB/s eta 0:00:01\r\u001b[K     |████████████████████████▏       | 1.3 MB 4.2 MB/s eta 0:00:01\r\u001b[K     |████████████████████████▍       | 1.3 MB 4.2 MB/s eta 0:00:01\r\u001b[K     |████████████████████████▌       | 1.3 MB 4.2 MB/s eta 0:00:01\r\u001b[K     |████████████████████████▊       | 1.3 MB 4.2 MB/s eta 0:00:01\r\u001b[K     |█████████████████████████       | 1.3 MB 4.2 MB/s eta 0:00:01\r\u001b[K     |█████████████████████████▏      | 1.3 MB 4.2 MB/s eta 0:00:01\r\u001b[K     |█████████████████████████▎      | 1.3 MB 4.2 MB/s eta 0:00:01\r\u001b[K     |█████████████████████████▌      | 1.3 MB 4.2 MB/s eta 0:00:01\r\u001b[K     |█████████████████████████▊      | 1.4 MB 4.2 MB/s eta 0:00:01\r\u001b[K     |██████████████████████████      | 1.4 MB 4.2 MB/s eta 0:00:01\r\u001b[K     |██████████████████████████      | 1.4 MB 4.2 MB/s eta 0:00:01\r\u001b[K     |██████████████████████████▎     | 1.4 MB 4.2 MB/s eta 0:00:01\r\u001b[K     |██████████████████████████▌     | 1.4 MB 4.2 MB/s eta 0:00:01\r\u001b[K     |██████████████████████████▊     | 1.4 MB 4.2 MB/s eta 0:00:01\r\u001b[K     |██████████████████████████▉     | 1.4 MB 4.2 MB/s eta 0:00:01\r\u001b[K     |███████████████████████████     | 1.4 MB 4.2 MB/s eta 0:00:01\r\u001b[K     |███████████████████████████▎    | 1.4 MB 4.2 MB/s eta 0:00:01\r\u001b[K     |███████████████████████████▌    | 1.4 MB 4.2 MB/s eta 0:00:01\r\u001b[K     |███████████████████████████▋    | 1.5 MB 4.2 MB/s eta 0:00:01\r\u001b[K     |███████████████████████████▉    | 1.5 MB 4.2 MB/s eta 0:00:01\r\u001b[K     |████████████████████████████    | 1.5 MB 4.2 MB/s eta 0:00:01\r\u001b[K     |████████████████████████████▎   | 1.5 MB 4.2 MB/s eta 0:00:01\r\u001b[K     |████████████████████████████▍   | 1.5 MB 4.2 MB/s eta 0:00:01\r\u001b[K     |████████████████████████████▋   | 1.5 MB 4.2 MB/s eta 0:00:01\r\u001b[K     |████████████████████████████▉   | 1.5 MB 4.2 MB/s eta 0:00:01\r\u001b[K     |█████████████████████████████   | 1.5 MB 4.2 MB/s eta 0:00:01\r\u001b[K     |█████████████████████████████▏  | 1.5 MB 4.2 MB/s eta 0:00:01\r\u001b[K     |█████████████████████████████▍  | 1.5 MB 4.2 MB/s eta 0:00:01\r\u001b[K     |█████████████████████████████▋  | 1.6 MB 4.2 MB/s eta 0:00:01\r\u001b[K     |█████████████████████████████▉  | 1.6 MB 4.2 MB/s eta 0:00:01\r\u001b[K     |██████████████████████████████  | 1.6 MB 4.2 MB/s eta 0:00:01\r\u001b[K     |██████████████████████████████▏ | 1.6 MB 4.2 MB/s eta 0:00:01\r\u001b[K     |██████████████████████████████▍ | 1.6 MB 4.2 MB/s eta 0:00:01\r\u001b[K     |██████████████████████████████▋ | 1.6 MB 4.2 MB/s eta 0:00:01\r\u001b[K     |██████████████████████████████▊ | 1.6 MB 4.2 MB/s eta 0:00:01\r\u001b[K     |███████████████████████████████ | 1.6 MB 4.2 MB/s eta 0:00:01\r\u001b[K     |███████████████████████████████▏| 1.6 MB 4.2 MB/s eta 0:00:01\r\u001b[K     |███████████████████████████████▍| 1.6 MB 4.2 MB/s eta 0:00:01\r\u001b[K     |███████████████████████████████▌| 1.7 MB 4.2 MB/s eta 0:00:01\r\u001b[K     |███████████████████████████████▊| 1.7 MB 4.2 MB/s eta 0:00:01\r\u001b[K     |████████████████████████████████| 1.7 MB 4.2 MB/s eta 0:00:01\r\u001b[K     |████████████████████████████████| 1.7 MB 4.2 MB/s \n",
            "\u001b[?25h  Installing build dependencies ... \u001b[?25l\u001b[?25hdone\n",
            "  Getting requirements to build wheel ... \u001b[?25l\u001b[?25hdone\n",
            "    Preparing wheel metadata ... \u001b[?25l\u001b[?25hdone\n",
            "Collecting pytools>=2011.2\n",
            "  Downloading pytools-2022.1.5.tar.gz (68 kB)\n",
            "\u001b[K     |████████████████████████████████| 68 kB 6.4 MB/s \n",
            "\u001b[?25hCollecting mako\n",
            "  Downloading Mako-1.2.0-py3-none-any.whl (78 kB)\n",
            "\u001b[K     |████████████████████████████████| 78 kB 6.0 MB/s \n",
            "\u001b[?25hRequirement already satisfied: appdirs>=1.4.0 in /usr/local/lib/python3.7/dist-packages (from pycuda) (1.4.4)\n",
            "Collecting platformdirs>=2.2.0\n",
            "  Downloading platformdirs-2.5.2-py3-none-any.whl (14 kB)\n",
            "Requirement already satisfied: numpy>=1.6.0 in /usr/local/lib/python3.7/dist-packages (from pytools>=2011.2->pycuda) (1.21.6)\n",
            "Requirement already satisfied: typing_extensions>=4.0 in /usr/local/lib/python3.7/dist-packages (from pytools>=2011.2->pycuda) (4.2.0)\n",
            "Requirement already satisfied: MarkupSafe>=0.9.2 in /usr/local/lib/python3.7/dist-packages (from mako->pycuda) (2.0.1)\n",
            "Requirement already satisfied: importlib-metadata in /usr/local/lib/python3.7/dist-packages (from mako->pycuda) (4.11.3)\n",
            "Requirement already satisfied: zipp>=0.5 in /usr/local/lib/python3.7/dist-packages (from importlib-metadata->mako->pycuda) (3.8.0)\n",
            "Building wheels for collected packages: pycuda, pytools\n",
            "  Building wheel for pycuda (PEP 517) ... \u001b[?25l\u001b[?25hdone\n",
            "  Created wheel for pycuda: filename=pycuda-2021.1-cp37-cp37m-linux_x86_64.whl size=626634 sha256=4cf7a95923d07158b00b81f21db5152d6455b384d6fe66b9d2030b50eb6b18f0\n",
            "  Stored in directory: /root/.cache/pip/wheels/c4/ef/49/dc6a5feb8d980b37c83d465ecab24949a6aa19458522a9e001\n",
            "  Building wheel for pytools (setup.py) ... \u001b[?25l\u001b[?25hdone\n",
            "  Created wheel for pytools: filename=pytools-2022.1.5-py2.py3-none-any.whl size=64596 sha256=c60d325f2730c63617f220b8a96fda554c06c8807adf5500adc1476866b71232\n",
            "  Stored in directory: /root/.cache/pip/wheels/10/a4/a2/e42c3619d996670485ad2116d212c6521d4a1e3db7f0c20891\n",
            "Successfully built pycuda pytools\n",
            "Installing collected packages: platformdirs, pytools, mako, pycuda\n",
            "Successfully installed mako-1.2.0 platformdirs-2.5.2 pycuda-2021.1 pytools-2022.1.5\n"
          ]
        }
      ]
    },
    {
      "cell_type": "code",
      "source": [
        "import pycuda.autoinit\n",
        "import pycuda.driver as cuda\n",
        "\n",
        "(free,total)=cuda.mem_get_info()\n",
        "print(\"Global memory occupancy:%f%% free\"%(free*100/total))\n",
        "\n",
        "for devicenum in range(cuda.Device.count()):\n",
        "    device=cuda.Device(devicenum)\n",
        "    attrs=device.get_attributes()\n",
        "\n",
        "    #Beyond this point is just pretty printing\n",
        "    print(\"\\n===Attributes for device %d\"%devicenum)\n",
        "    for (key,value) in attrs.items():\n",
        "        print(\"%s:%s\"%(str(key),str(value)))"
      ],
      "metadata": {
        "colab": {
          "base_uri": "https://localhost:8080/"
        },
        "id": "1QSY0N_b2QD2",
        "outputId": "0442e8ff-9f7e-49d2-db4c-fed513638f35"
      },
      "execution_count": null,
      "outputs": [
        {
          "output_type": "stream",
          "name": "stdout",
          "text": [
            "Global memory occupancy:99.446080% free\n",
            "\n",
            "===Attributes for device 0\n",
            "ASYNC_ENGINE_COUNT:2\n",
            "CAN_MAP_HOST_MEMORY:1\n",
            "CLOCK_RATE:823500\n",
            "COMPUTE_CAPABILITY_MAJOR:3\n",
            "COMPUTE_CAPABILITY_MINOR:7\n",
            "COMPUTE_MODE:DEFAULT\n",
            "CONCURRENT_KERNELS:1\n",
            "ECC_ENABLED:1\n",
            "GLOBAL_L1_CACHE_SUPPORTED:1\n",
            "GLOBAL_MEMORY_BUS_WIDTH:384\n",
            "GPU_OVERLAP:1\n",
            "INTEGRATED:0\n",
            "KERNEL_EXEC_TIMEOUT:0\n",
            "L2_CACHE_SIZE:1572864\n",
            "LOCAL_L1_CACHE_SUPPORTED:1\n",
            "MANAGED_MEMORY:1\n",
            "MAXIMUM_SURFACE1D_LAYERED_LAYERS:2048\n",
            "MAXIMUM_SURFACE1D_LAYERED_WIDTH:65536\n",
            "MAXIMUM_SURFACE1D_WIDTH:65536\n",
            "MAXIMUM_SURFACE2D_HEIGHT:32768\n",
            "MAXIMUM_SURFACE2D_LAYERED_HEIGHT:32768\n",
            "MAXIMUM_SURFACE2D_LAYERED_LAYERS:2048\n",
            "MAXIMUM_SURFACE2D_LAYERED_WIDTH:65536\n",
            "MAXIMUM_SURFACE2D_WIDTH:65536\n",
            "MAXIMUM_SURFACE3D_DEPTH:2048\n",
            "MAXIMUM_SURFACE3D_HEIGHT:32768\n",
            "MAXIMUM_SURFACE3D_WIDTH:65536\n",
            "MAXIMUM_SURFACECUBEMAP_LAYERED_LAYERS:2046\n",
            "MAXIMUM_SURFACECUBEMAP_LAYERED_WIDTH:32768\n",
            "MAXIMUM_SURFACECUBEMAP_WIDTH:32768\n",
            "MAXIMUM_TEXTURE1D_LAYERED_LAYERS:2048\n",
            "MAXIMUM_TEXTURE1D_LAYERED_WIDTH:16384\n",
            "MAXIMUM_TEXTURE1D_LINEAR_WIDTH:134217728\n",
            "MAXIMUM_TEXTURE1D_MIPMAPPED_WIDTH:16384\n",
            "MAXIMUM_TEXTURE1D_WIDTH:65536\n",
            "MAXIMUM_TEXTURE2D_ARRAY_HEIGHT:16384\n",
            "MAXIMUM_TEXTURE2D_ARRAY_NUMSLICES:2048\n",
            "MAXIMUM_TEXTURE2D_ARRAY_WIDTH:16384\n",
            "MAXIMUM_TEXTURE2D_GATHER_HEIGHT:16384\n",
            "MAXIMUM_TEXTURE2D_GATHER_WIDTH:16384\n",
            "MAXIMUM_TEXTURE2D_HEIGHT:65536\n",
            "MAXIMUM_TEXTURE2D_LINEAR_HEIGHT:65000\n",
            "MAXIMUM_TEXTURE2D_LINEAR_PITCH:1048544\n",
            "MAXIMUM_TEXTURE2D_LINEAR_WIDTH:65000\n",
            "MAXIMUM_TEXTURE2D_MIPMAPPED_HEIGHT:16384\n",
            "MAXIMUM_TEXTURE2D_MIPMAPPED_WIDTH:16384\n",
            "MAXIMUM_TEXTURE2D_WIDTH:65536\n",
            "MAXIMUM_TEXTURE3D_DEPTH:4096\n",
            "MAXIMUM_TEXTURE3D_DEPTH_ALTERNATE:16384\n",
            "MAXIMUM_TEXTURE3D_HEIGHT:4096\n",
            "MAXIMUM_TEXTURE3D_HEIGHT_ALTERNATE:2048\n",
            "MAXIMUM_TEXTURE3D_WIDTH:4096\n",
            "MAXIMUM_TEXTURE3D_WIDTH_ALTERNATE:2048\n",
            "MAXIMUM_TEXTURECUBEMAP_LAYERED_LAYERS:2046\n",
            "MAXIMUM_TEXTURECUBEMAP_LAYERED_WIDTH:16384\n",
            "MAXIMUM_TEXTURECUBEMAP_WIDTH:16384\n",
            "MAX_BLOCK_DIM_X:1024\n",
            "MAX_BLOCK_DIM_Y:1024\n",
            "MAX_BLOCK_DIM_Z:64\n",
            "MAX_GRID_DIM_X:2147483647\n",
            "MAX_GRID_DIM_Y:65535\n",
            "MAX_GRID_DIM_Z:65535\n",
            "MAX_PITCH:2147483647\n",
            "MAX_REGISTERS_PER_BLOCK:65536\n",
            "MAX_REGISTERS_PER_MULTIPROCESSOR:131072\n",
            "MAX_SHARED_MEMORY_PER_BLOCK:49152\n",
            "MAX_SHARED_MEMORY_PER_MULTIPROCESSOR:114688\n",
            "MAX_THREADS_PER_BLOCK:1024\n",
            "MAX_THREADS_PER_MULTIPROCESSOR:2048\n",
            "MEMORY_CLOCK_RATE:2505000\n",
            "MULTIPROCESSOR_COUNT:13\n",
            "MULTI_GPU_BOARD:0\n",
            "MULTI_GPU_BOARD_GROUP_ID:0\n",
            "PCI_BUS_ID:0\n",
            "PCI_DEVICE_ID:4\n",
            "PCI_DOMAIN_ID:0\n",
            "STREAM_PRIORITIES_SUPPORTED:1\n",
            "SURFACE_ALIGNMENT:512\n",
            "TCC_DRIVER:0\n",
            "TEXTURE_ALIGNMENT:512\n",
            "TEXTURE_PITCH_ALIGNMENT:32\n",
            "TOTAL_CONSTANT_MEMORY:65536\n",
            "UNIFIED_ADDRESSING:1\n",
            "WARP_SIZE:32\n"
          ]
        }
      ]
    },
    {
      "cell_type": "code",
      "execution_count": null,
      "metadata": {
        "id": "d_pn9WEnwst1"
      },
      "outputs": [],
      "source": [
        "import numpy\n",
        "a = numpy.random.randn(4,4)\n",
        "a = a.astype(numpy.float32)\n",
        "a_gpu = cuda.mem_alloc(a.nbytes)\n",
        "cuda.memcpy_htod(a_gpu, a)"
      ]
    },
    {
      "cell_type": "code",
      "source": [
        "mod = SourceModule(\"\"\"\n",
        "  __global__ void doublify(float *a)\n",
        "  {\n",
        "    int idx = threadIdx.x + threadIdx.y*4;\n",
        "    a[idx] *= 2;\n",
        "  }\n",
        "  \"\"\")\n",
        "func = mod.get_function(\"doublify\")\n",
        "func(a_gpu, block=(4,4,1))"
      ],
      "metadata": {
        "id": "Oiw7zCCsyaWv"
      },
      "execution_count": null,
      "outputs": []
    },
    {
      "cell_type": "code",
      "source": [
        "a_doubled = numpy.empty_like(a)\n",
        "cuda.memcpy_dtoh(a_doubled, a_gpu)\n",
        "\n",
        "\n",
        "print(\"Original Array: \", a)\n",
        "print(\"Doubled Array: \", a_doubled)\n"
      ],
      "metadata": {
        "colab": {
          "base_uri": "https://localhost:8080/"
        },
        "id": "pPmyMnRK71Sq",
        "outputId": "a258e7af-bde1-4cd7-f54f-55e00e1d2d5b"
      },
      "execution_count": null,
      "outputs": [
        {
          "output_type": "stream",
          "name": "stdout",
          "text": [
            "Original Array:  [[-1.4181806  -1.0551018  -0.00773647  1.7427331 ]\n",
            " [ 0.34343663 -0.28739807  0.42590174  0.4297826 ]\n",
            " [-0.1457469   0.20598535  0.84063685  0.49176353]\n",
            " [-0.8859098  -0.43639514  1.8323126  -1.5600418 ]]\n",
            "Doubled Array:  [[-2.8363612  -2.1102035  -0.01547294  3.4854662 ]\n",
            " [ 0.68687326 -0.57479614  0.8518035   0.8595652 ]\n",
            " [-0.2914938   0.4119707   1.6812737   0.98352706]\n",
            " [-1.7718196  -0.8727903   3.6646252  -3.1200836 ]]\n"
          ]
        }
      ]
    }
  ]
}