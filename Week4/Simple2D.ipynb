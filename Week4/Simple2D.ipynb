{
  "cells": [
    {
      "cell_type": "markdown",
      "metadata": {
        "colab_type": "text",
        "id": "view-in-github"
      },
      "source": [
        "<a href=\"https://colab.research.google.com/github/aliasgharchakera/CUDA_Spring_2024/blob/main/Week4/Simple2D.ipynb\" target=\"_parent\"><img src=\"https://colab.research.google.com/assets/colab-badge.svg\" alt=\"Open In Colab\"/></a>"
      ]
    },
    {
      "cell_type": "code",
      "execution_count": 1,
      "metadata": {
        "colab": {
          "base_uri": "https://localhost:8080/"
        },
        "id": "NEC1YQlf9uiU",
        "outputId": "cfde0367-e03e-4666-8305-93687a51a144"
      },
      "outputs": [
        {
          "name": "stdout",
          "output_type": "stream",
          "text": [
            "Collecting git+https://github.com/andreinechaev/nvcc4jupyter.git\n",
            "  Cloning https://github.com/andreinechaev/nvcc4jupyter.git to /tmp/pip-req-build-a4p3qci3\n",
            "  Running command git clone --filter=blob:none --quiet https://github.com/andreinechaev/nvcc4jupyter.git /tmp/pip-req-build-a4p3qci3\n",
            "  Resolved https://github.com/andreinechaev/nvcc4jupyter.git to commit 5cd225851b7638f3f6d55a19328295f16c014079\n",
            "  Installing build dependencies ... \u001b[?25l\u001b[?25hdone\n",
            "  Getting requirements to build wheel ... \u001b[?25l\u001b[?25hdone\n",
            "  Preparing metadata (pyproject.toml) ... \u001b[?25l\u001b[?25hdone\n",
            "Building wheels for collected packages: nvcc4jupyter\n",
            "  Building wheel for nvcc4jupyter (pyproject.toml) ... \u001b[?25l\u001b[?25hdone\n",
            "  Created wheel for nvcc4jupyter: filename=nvcc4jupyter-1.0.3-py3-none-any.whl size=7432 sha256=ad99cf1e6175f37f13398802e9e82d42885745e385f9d1c2ce678f3d359f3a95\n",
            "  Stored in directory: /tmp/pip-ephem-wheel-cache-sig5__7k/wheels/a8/b9/18/23f8ef71ceb0f63297dd1903aedd067e6243a68ea756d6feea\n",
            "Successfully built nvcc4jupyter\n",
            "Installing collected packages: nvcc4jupyter\n",
            "Successfully installed nvcc4jupyter-1.0.3\n",
            "Source files will be saved in \"/tmp/tmpb7s8hpfn\".\n"
          ]
        }
      ],
      "source": [
        "!pip install git+https://github.com/andreinechaev/nvcc4jupyter.git\n",
        "%load_ext nvcc4jupyter"
      ]
    },
    {
      "cell_type": "code",
      "execution_count": 2,
      "metadata": {
        "colab": {
          "base_uri": "https://localhost:8080/"
        },
        "id": "prZ5rRtQ91Lu",
        "outputId": "a4698296-393f-4f7a-84ac-1beaa48d5d88"
      },
      "outputs": [
        {
          "name": "stdout",
          "output_type": "stream",
          "text": [
            " 0  0  0  0  1  1  1  1  2  2  2  2  3  3  3  3 \n",
            " 0  0  0  0  1  1  1  1  2  2  2  2  3  3  3  3 \n",
            " 0  0  0  0  1  1  1  1  2  2  2  2  3  3  3  3 \n",
            " 0  0  0  0  1  1  1  1  2  2  2  2  3  3  3  3 \n",
            " 4  4  4  4  5  5  5  5  6  6  6  6  7  7  7  7 \n",
            " 4  4  4  4  5  5  5  5  6  6  6  6  7  7  7  7 \n",
            " 4  4  4  4  5  5  5  5  6  6  6  6  7  7  7  7 \n",
            " 4  4  4  4  5  5  5  5  6  6  6  6  7  7  7  7 \n",
            " 8  8  8  8  9  9  9  9 10 10 10 10 11 11 11 11 \n",
            " 8  8  8  8  9  9  9  9 10 10 10 10 11 11 11 11 \n",
            " 8  8  8  8  9  9  9  9 10 10 10 10 11 11 11 11 \n",
            " 8  8  8  8  9  9  9  9 10 10 10 10 11 11 11 11 \n",
            "12 12 12 12 13 13 13 13 14 14 14 14 15 15 15 15 \n",
            "12 12 12 12 13 13 13 13 14 14 14 14 15 15 15 15 \n",
            "12 12 12 12 13 13 13 13 14 14 14 14 15 15 15 15 \n",
            "12 12 12 12 13 13 13 13 14 14 14 14 15 15 15 15 \n",
            "\n",
            "\n"
          ]
        }
      ],
      "source": [
        "%%cuda\n",
        "//Taken from: https://code.google.com/p/stanford-cs193g-sp2010/wiki/TutorialMultidimensionalKernelLaunch\n",
        "\n",
        "#include <stdlib.h>\n",
        "#include <stdio.h>\n",
        "\n",
        "__global__ void kernel(int *array)\n",
        "{\n",
        "  int index_x = blockIdx.x * blockDim.x + threadIdx.x;\n",
        "  int index_y = blockIdx.y * blockDim.y + threadIdx.y;\n",
        "\n",
        "  // map the two 2D indices to a single linear, 1D index\n",
        "  int grid_width = gridDim.x * blockDim.x;\n",
        "  int index = index_y * grid_width + index_x;\n",
        "\n",
        "  // map the two 2D block indices to a single linear, 1D block index\n",
        "  int result = blockIdx.y * gridDim.x + blockIdx.x;\n",
        "\n",
        "  // write out the result\n",
        "  array[index] = result;\n",
        "}\n",
        "\n",
        "int main(void)\n",
        "{\n",
        "  int num_elements_x = 16;\n",
        "  int num_elements_y = 16;\n",
        "\n",
        "  int num_bytes = num_elements_x * num_elements_y * sizeof(int);\n",
        "\n",
        "  int *device_array = 0;\n",
        "  int *host_array = 0;\n",
        "\n",
        "  // allocate memory in either space\n",
        "  host_array = (int*)malloc(num_bytes);\n",
        "  cudaMalloc((void**)&device_array, num_bytes);\n",
        "\n",
        "  // create two dimensional 4x4 thread blocks\n",
        "  dim3 block_size;\n",
        "  block_size.x = 4;\n",
        "  block_size.y = 4;\n",
        "\n",
        "  // configure a two dimensional grid as well\n",
        "  dim3 grid_size;\n",
        "  grid_size.x = num_elements_x / block_size.x;\n",
        "  grid_size.y = num_elements_y / block_size.y;\n",
        "\n",
        "  // grid_size & block_size are passed as arguments to the triple chevrons as usual\n",
        "  kernel<<<grid_size,block_size>>>(device_array);\n",
        "\n",
        "  // download and inspect the result on the host:\n",
        "  cudaMemcpy(host_array, device_array, num_bytes, cudaMemcpyDeviceToHost);\n",
        "\n",
        "  // print out the result element by element\n",
        "  for(int row = 0; row < num_elements_y; ++row)\n",
        "  {\n",
        "    for(int col = 0; col < num_elements_x; ++col)\n",
        "    {\n",
        "      printf(\"%2d \", host_array[row * num_elements_x + col]);\n",
        "    }\n",
        "    printf(\"\\n\");\n",
        "  }\n",
        "  printf(\"\\n\");\n",
        "\n",
        "  // deallocate memory\n",
        "  free(host_array);\n",
        "  cudaFree(device_array);\n",
        "}"
      ]
    }
  ],
  "metadata": {
    "accelerator": "GPU",
    "colab": {
      "include_colab_link": true,
      "name": "Simple2D.ipynb",
      "provenance": []
    },
    "kernelspec": {
      "display_name": "Python 3",
      "name": "python3"
    },
    "language_info": {
      "name": "python"
    }
  },
  "nbformat": 4,
  "nbformat_minor": 0
}
